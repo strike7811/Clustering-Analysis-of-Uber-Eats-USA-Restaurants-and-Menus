{
 "cells": [
  {
   "cell_type": "markdown",
   "metadata": {
    "id": "nlN27bE_cz-F"
   },
   "source": [
    "# Uber Eats USA Restaurants and Menus\n",
    "## 1.0 Import Library"
   ]
  },
  {
   "cell_type": "code",
   "execution_count": null,
   "metadata": {
    "executionInfo": {
     "elapsed": 306,
     "status": "ok",
     "timestamp": 1714905021819,
     "user": {
      "displayName": "CHERN HONG KOH",
      "userId": "10658439026159517048"
     },
     "user_tz": -480
    },
    "id": "yDO4Tpn8uoo5"
   },
   "outputs": [],
   "source": [
    "# !pip install squarify\n",
    "# !pip install folium\n",
    "# !pip install wordcloud\n",
    "# !pip install scikit-fuzzy\n",
    "# !pip install umap-learn\n",
    "# !pip install missingno"
   ]
  },
  {
   "cell_type": "code",
   "execution_count": null,
   "metadata": {
    "executionInfo": {
     "elapsed": 2986,
     "status": "ok",
     "timestamp": 1714905024803,
     "user": {
      "displayName": "CHERN HONG KOH",
      "userId": "10658439026159517048"
     },
     "user_tz": -480
    },
    "id": "Bdt8vrQNWrPF"
   },
   "outputs": [],
   "source": [
    "import numpy as np\n",
    "import pandas as pd\n",
    "import matplotlib.pyplot as plt\n",
    "import seaborn as sns\n",
    "import missingno as msno\n",
    "import plotly.express as px\n",
    "import warnings\n",
    "import squarify\n",
    "import folium\n",
    "import plotly.graph_objects as go\n",
    "\n",
    "from mpl_toolkits.mplot3d import Axes3D\n",
    "from folium import plugins\n",
    "from folium.plugins import HeatMap\n",
    "from matplotlib import gridspec\n",
    "from wordcloud import WordCloud\n",
    "warnings.filterwarnings(\"ignore\")"
   ]
  },
  {
   "cell_type": "markdown",
   "metadata": {
    "id": "T_00umEBuDel"
   },
   "source": [
    "## 1.1 Load the CSV file"
   ]
  },
  {
   "cell_type": "code",
   "execution_count": null,
   "metadata": {
    "colab": {
     "base_uri": "https://localhost:8080/"
    },
    "executionInfo": {
     "elapsed": 2755,
     "status": "ok",
     "timestamp": 1714905027555,
     "user": {
      "displayName": "CHERN HONG KOH",
      "userId": "10658439026159517048"
     },
     "user_tz": -480
    },
    "id": "yWZfnMUzuuXA",
    "outputId": "d3514e23-678b-429d-be45-a3ba1068dd13"
   },
   "outputs": [],
   "source": [
    "# from google.colab import drive\n",
    "# drive.mount('/content/drive')"
   ]
  },
  {
   "cell_type": "code",
   "execution_count": null,
   "metadata": {
    "executionInfo": {
     "elapsed": 37223,
     "status": "ok",
     "timestamp": 1714905064777,
     "user": {
      "displayName": "CHERN HONG KOH",
      "userId": "10658439026159517048"
     },
     "user_tz": -480
    },
    "id": "Kdho632SuxJI"
   },
   "outputs": [],
   "source": [
    "# path1 = \"/content/drive/MyDrive/ML_Assignment/restaurants.csv\"\n",
    "# path2 = \"/content/drive/MyDrive/ML_Assignment/restaurant-menus.csv\"\n",
    "\n",
    "# restaurant = pd.read_csv(path1)\n",
    "# menu = pd.read_csv(path2)"
   ]
  },
  {
   "cell_type": "code",
   "execution_count": null,
   "metadata": {
    "executionInfo": {
     "elapsed": 16,
     "status": "ok",
     "timestamp": 1714905064777,
     "user": {
      "displayName": "CHERN HONG KOH",
      "userId": "10658439026159517048"
     },
     "user_tz": -480
    },
    "id": "FyaqXW8YWoU9"
   },
   "outputs": [],
   "source": [
    "restaurant = pd.read_csv(\"restaurants.csv\")\n",
    "menu = pd.read_csv(\"restaurant-menus.csv\")"
   ]
  },
  {
   "cell_type": "markdown",
   "metadata": {
    "id": "9oW8IJQjDQup"
   },
   "source": [
    "# 2.0 Sanity Check of Data"
   ]
  },
  {
   "cell_type": "markdown",
   "metadata": {
    "id": "asUy0XKDuDem"
   },
   "source": [
    "## 2.1 Display the dimensions of the dataframe (number of rows, number of columns)"
   ]
  },
  {
   "cell_type": "code",
   "execution_count": null,
   "metadata": {
    "colab": {
     "base_uri": "https://localhost:8080/"
    },
    "executionInfo": {
     "elapsed": 17,
     "status": "ok",
     "timestamp": 1714905064778,
     "user": {
      "displayName": "CHERN HONG KOH",
      "userId": "10658439026159517048"
     },
     "user_tz": -480
    },
    "id": "fCCsA4KijN4u",
    "outputId": "cbfb939d-0ab4-4b26-d96a-f517aba89c8a"
   },
   "outputs": [],
   "source": [
    "restaurant.shape"
   ]
  },
  {
   "cell_type": "code",
   "execution_count": null,
   "metadata": {
    "colab": {
     "base_uri": "https://localhost:8080/"
    },
    "executionInfo": {
     "elapsed": 14,
     "status": "ok",
     "timestamp": 1714905064778,
     "user": {
      "displayName": "CHERN HONG KOH",
      "userId": "10658439026159517048"
     },
     "user_tz": -480
    },
    "id": "6g7GxXtvjPtI",
    "outputId": "4c78491c-bc08-4db2-c404-0270a634db67"
   },
   "outputs": [],
   "source": [
    "menu.shape"
   ]
  },
  {
   "cell_type": "markdown",
   "metadata": {
    "id": "B1Bqm8pEuDem"
   },
   "source": [
    "## 2.2 Check the first 5 rows of the dataframe\n",
    "#### To understanding the data structure"
   ]
  },
  {
   "cell_type": "code",
   "execution_count": null,
   "metadata": {
    "colab": {
     "base_uri": "https://localhost:8080/",
     "height": 206
    },
    "executionInfo": {
     "elapsed": 1035,
     "status": "ok",
     "timestamp": 1714905065800,
     "user": {
      "displayName": "CHERN HONG KOH",
      "userId": "10658439026159517048"
     },
     "user_tz": -480
    },
    "id": "DzkxDB9xX2jp",
    "outputId": "1f733cba-4b84-4d64-fa00-6b3dbceac036"
   },
   "outputs": [],
   "source": [
    "restaurant.head()"
   ]
  },
  {
   "cell_type": "code",
   "execution_count": null,
   "metadata": {
    "colab": {
     "base_uri": "https://localhost:8080/",
     "height": 206
    },
    "executionInfo": {
     "elapsed": 13,
     "status": "ok",
     "timestamp": 1714905065801,
     "user": {
      "displayName": "CHERN HONG KOH",
      "userId": "10658439026159517048"
     },
     "user_tz": -480
    },
    "id": "ny64iz1Acv90",
    "outputId": "37ba4010-1590-49dc-8c12-bf87d8b56326"
   },
   "outputs": [],
   "source": [
    "menu.head()"
   ]
  },
  {
   "cell_type": "markdown",
   "metadata": {
    "id": "CRhRVRk6uDen"
   },
   "source": [
    "## 2.3 Check the data type of each column"
   ]
  },
  {
   "cell_type": "code",
   "execution_count": null,
   "metadata": {
    "colab": {
     "base_uri": "https://localhost:8080/"
    },
    "executionInfo": {
     "elapsed": 12,
     "status": "ok",
     "timestamp": 1714905065801,
     "user": {
      "displayName": "CHERN HONG KOH",
      "userId": "10658439026159517048"
     },
     "user_tz": -480
    },
    "id": "Gy4aKni8cyGl",
    "outputId": "2bbc1e7d-e02d-41d9-d566-34d3c7c05515"
   },
   "outputs": [],
   "source": [
    "restaurant.dtypes"
   ]
  },
  {
   "cell_type": "code",
   "execution_count": null,
   "metadata": {
    "colab": {
     "base_uri": "https://localhost:8080/"
    },
    "executionInfo": {
     "elapsed": 9,
     "status": "ok",
     "timestamp": 1714905065801,
     "user": {
      "displayName": "CHERN HONG KOH",
      "userId": "10658439026159517048"
     },
     "user_tz": -480
    },
    "id": "h3FUGpcOjtEC",
    "outputId": "c5ce27f0-242f-4d86-c167-fc838850a139"
   },
   "outputs": [],
   "source": [
    "menu.dtypes"
   ]
  },
  {
   "cell_type": "markdown",
   "metadata": {
    "id": "Knr4I4sIuDen"
   },
   "source": [
    "## 2.4 Check the information of dataframe\n",
    "#### check the index, number of columns, column labels, data types of each column, memory usage and number of non-null value"
   ]
  },
  {
   "cell_type": "code",
   "execution_count": null,
   "metadata": {
    "colab": {
     "base_uri": "https://localhost:8080/"
    },
    "executionInfo": {
     "elapsed": 8,
     "status": "ok",
     "timestamp": 1714905065801,
     "user": {
      "displayName": "CHERN HONG KOH",
      "userId": "10658439026159517048"
     },
     "user_tz": -480
    },
    "id": "EPEVIVbaj4Dd",
    "outputId": "d73fb8c1-8f17-438e-94d7-539dfc03b3ae"
   },
   "outputs": [],
   "source": [
    "restaurant.info()"
   ]
  },
  {
   "cell_type": "code",
   "execution_count": null,
   "metadata": {
    "colab": {
     "base_uri": "https://localhost:8080/"
    },
    "executionInfo": {
     "elapsed": 7,
     "status": "ok",
     "timestamp": 1714905065801,
     "user": {
      "displayName": "CHERN HONG KOH",
      "userId": "10658439026159517048"
     },
     "user_tz": -480
    },
    "id": "9hbQfChMj4Np",
    "outputId": "967380a9-678c-4cd7-a6b6-4a3f725634c7"
   },
   "outputs": [],
   "source": [
    "menu.info()"
   ]
  },
  {
   "cell_type": "markdown",
   "metadata": {
    "id": "Kr9LLfePuDeo"
   },
   "source": [
    "## 2.5 Check the column names"
   ]
  },
  {
   "cell_type": "code",
   "execution_count": null,
   "metadata": {
    "colab": {
     "base_uri": "https://localhost:8080/"
    },
    "executionInfo": {
     "elapsed": 6,
     "status": "ok",
     "timestamp": 1714905065801,
     "user": {
      "displayName": "CHERN HONG KOH",
      "userId": "10658439026159517048"
     },
     "user_tz": -480
    },
    "id": "Z6lOzbpOlpQU",
    "outputId": "1497ec0d-00f0-42d3-daab-363c8f68214b"
   },
   "outputs": [],
   "source": [
    "restaurant.columns"
   ]
  },
  {
   "cell_type": "code",
   "execution_count": null,
   "metadata": {
    "colab": {
     "base_uri": "https://localhost:8080/"
    },
    "executionInfo": {
     "elapsed": 333,
     "status": "ok",
     "timestamp": 1714905066130,
     "user": {
      "displayName": "CHERN HONG KOH",
      "userId": "10658439026159517048"
     },
     "user_tz": -480
    },
    "id": "Uj_DG0rAlpWS",
    "outputId": "dc6506f9-9e6d-44d9-9dd3-7b6c0d54308f"
   },
   "outputs": [],
   "source": [
    "menu.columns"
   ]
  },
  {
   "cell_type": "markdown",
   "metadata": {
    "id": "JD85l_ISuDeo"
   },
   "source": [
    "## 2.6 Generate descriptive statistics\n",
    "#### To summarize the central tendency, dispersion, and shape of the distribution of the numerical columns"
   ]
  },
  {
   "cell_type": "code",
   "execution_count": null,
   "metadata": {
    "colab": {
     "base_uri": "https://localhost:8080/",
     "height": 300
    },
    "executionInfo": {
     "elapsed": 3,
     "status": "ok",
     "timestamp": 1714905066130,
     "user": {
      "displayName": "CHERN HONG KOH",
      "userId": "10658439026159517048"
     },
     "user_tz": -480
    },
    "id": "XssY0vUGuDeo",
    "outputId": "c68557ee-17c4-4d5f-c5b0-01c78579954a"
   },
   "outputs": [],
   "source": [
    "restaurant.describe()"
   ]
  },
  {
   "cell_type": "markdown",
   "metadata": {
    "id": "KWebOtojm-xg"
   },
   "source": [
    "# 3.0 Preprocessing"
   ]
  },
  {
   "cell_type": "markdown",
   "metadata": {
    "id": "fUG5hkokuDep"
   },
   "source": [
    "## 3.1 Modify the dataset"
   ]
  },
  {
   "cell_type": "markdown",
   "metadata": {
    "id": "KmG8PwD9uDep"
   },
   "source": [
    "### 3.1.1 Copy the dataframe\n",
    "#### To avoid modifying the original data, preserving its integrity for reference or future analysis"
   ]
  },
  {
   "cell_type": "code",
   "execution_count": null,
   "metadata": {
    "colab": {
     "base_uri": "https://localhost:8080/",
     "height": 206
    },
    "executionInfo": {
     "elapsed": 808,
     "status": "ok",
     "timestamp": 1714905066936,
     "user": {
      "displayName": "CHERN HONG KOH",
      "userId": "10658439026159517048"
     },
     "user_tz": -480
    },
    "id": "_l-iKR80lqGM",
    "outputId": "9c885c4a-9bb4-49e1-b2d1-48383e88f59e"
   },
   "outputs": [],
   "source": [
    "new_restaurant = restaurant.copy()\n",
    "new_restaurant.head()"
   ]
  },
  {
   "cell_type": "code",
   "execution_count": null,
   "metadata": {
    "colab": {
     "base_uri": "https://localhost:8080/",
     "height": 206
    },
    "executionInfo": {
     "elapsed": 1345,
     "status": "ok",
     "timestamp": 1714905068279,
     "user": {
      "displayName": "CHERN HONG KOH",
      "userId": "10658439026159517048"
     },
     "user_tz": -480
    },
    "id": "9zbA57KPuDep",
    "outputId": "5ed24bd7-fe6c-4c40-c5e8-818ac0d8e5f5"
   },
   "outputs": [],
   "source": [
    "new_menu = menu.copy()\n",
    "new_menu.head()"
   ]
  },
  {
   "cell_type": "markdown",
   "metadata": {
    "id": "pfFse-XTuDep"
   },
   "source": [
    "### 3.1.2 Change the first character of column to capital letter\n",
    "#### To improve readability and consistency in the dataset"
   ]
  },
  {
   "cell_type": "code",
   "execution_count": null,
   "metadata": {
    "executionInfo": {
     "elapsed": 2,
     "status": "ok",
     "timestamp": 1714905068279,
     "user": {
      "displayName": "CHERN HONG KOH",
      "userId": "10658439026159517048"
     },
     "user_tz": -480
    },
    "id": "ONAAEa8ObTpv"
   },
   "outputs": [],
   "source": [
    "def capitalize_first_letter(s):\n",
    "    return s.str.capitalize()"
   ]
  },
  {
   "cell_type": "code",
   "execution_count": null,
   "metadata": {
    "colab": {
     "base_uri": "https://localhost:8080/",
     "height": 206
    },
    "executionInfo": {
     "elapsed": 572,
     "status": "ok",
     "timestamp": 1714905068849,
     "user": {
      "displayName": "CHERN HONG KOH",
      "userId": "10658439026159517048"
     },
     "user_tz": -480
    },
    "id": "7rQvZkaDbUbl",
    "outputId": "d59b65ca-7685-4553-a73b-d1e562866a2a"
   },
   "outputs": [],
   "source": [
    "new_restaurant.columns = capitalize_first_letter(new_restaurant.columns)\n",
    "new_restaurant.head()"
   ]
  },
  {
   "cell_type": "code",
   "execution_count": null,
   "metadata": {
    "colab": {
     "base_uri": "https://localhost:8080/",
     "height": 206
    },
    "executionInfo": {
     "elapsed": 488,
     "status": "ok",
     "timestamp": 1714905069333,
     "user": {
      "displayName": "CHERN HONG KOH",
      "userId": "10658439026159517048"
     },
     "user_tz": -480
    },
    "id": "Fbe9u-mdbsSg",
    "outputId": "742e1d66-9722-490b-c0de-f6f610357166"
   },
   "outputs": [],
   "source": [
    "new_menu.columns = capitalize_first_letter(new_menu.columns)\n",
    "new_menu.head()"
   ]
  },
  {
   "cell_type": "markdown",
   "metadata": {
    "id": "VlsFDVxGuDeq"
   },
   "source": [
    "### 3.1.3 Rename the column\n",
    "#### To make column easier to understand and identified"
   ]
  },
  {
   "cell_type": "code",
   "execution_count": null,
   "metadata": {
    "colab": {
     "base_uri": "https://localhost:8080/",
     "height": 206
    },
    "executionInfo": {
     "elapsed": 332,
     "status": "ok",
     "timestamp": 1714905069663,
     "user": {
      "displayName": "CHERN HONG KOH",
      "userId": "10658439026159517048"
     },
     "user_tz": -480
    },
    "id": "-lqKwNo3S23j",
    "outputId": "37c8eb8e-4901-4e1e-e900-b267e2bebddd"
   },
   "outputs": [],
   "source": [
    "new_restaurant.rename(columns = {\"Full_address\" : \"Address\",\n",
    "                                 \"Zip_code\" : \"Postal_Code\",\n",
    "                                 \"Lat\" : \"Latitude\",\n",
    "                                 \"Lng\" : \"Longitude\"}, inplace = True)\n",
    "new_restaurant.head()"
   ]
  },
  {
   "cell_type": "code",
   "execution_count": null,
   "metadata": {
    "colab": {
     "base_uri": "https://localhost:8080/",
     "height": 206
    },
    "executionInfo": {
     "elapsed": 4,
     "status": "ok",
     "timestamp": 1714905069663,
     "user": {
      "displayName": "CHERN HONG KOH",
      "userId": "10658439026159517048"
     },
     "user_tz": -480
    },
    "id": "YLGiEl5PS29j",
    "outputId": "c5aa92a9-9944-41af-887b-ec90d79e223a"
   },
   "outputs": [],
   "source": [
    "new_menu.rename(columns = {\"Restaurant_id\" : \"Restaurant ID\"}, inplace = True)\n",
    "new_menu.head()"
   ]
  },
  {
   "cell_type": "markdown",
   "metadata": {
    "id": "GgR_swYPuDeq"
   },
   "source": [
    "## 3.2 Duplicate Data\n",
    "### 3.2.1 Drop the duplicated rows\n",
    "#### To maintain the data integrity and prevent data consistency"
   ]
  },
  {
   "cell_type": "code",
   "execution_count": null,
   "metadata": {
    "colab": {
     "base_uri": "https://localhost:8080/"
    },
    "executionInfo": {
     "elapsed": 464,
     "status": "ok",
     "timestamp": 1714905070124,
     "user": {
      "displayName": "CHERN HONG KOH",
      "userId": "10658439026159517048"
     },
     "user_tz": -480
    },
    "id": "pgQn9PeAuDeq",
    "outputId": "b2a8e658-d99f-46f0-f6c0-7187ef7dad16"
   },
   "outputs": [],
   "source": [
    "new_restaurant.duplicated().sum()"
   ]
  },
  {
   "cell_type": "code",
   "execution_count": null,
   "metadata": {
    "colab": {
     "base_uri": "https://localhost:8080/"
    },
    "executionInfo": {
     "elapsed": 6312,
     "status": "ok",
     "timestamp": 1714905076434,
     "user": {
      "displayName": "CHERN HONG KOH",
      "userId": "10658439026159517048"
     },
     "user_tz": -480
    },
    "id": "Fsdm6w7SuDer",
    "outputId": "c093ae19-c4f5-4e1d-b766-44f3cdadae94"
   },
   "outputs": [],
   "source": [
    "new_menu.duplicated().sum()"
   ]
  },
  {
   "cell_type": "code",
   "execution_count": null,
   "metadata": {
    "colab": {
     "base_uri": "https://localhost:8080/"
    },
    "executionInfo": {
     "elapsed": 6790,
     "status": "ok",
     "timestamp": 1714905083212,
     "user": {
      "displayName": "CHERN HONG KOH",
      "userId": "10658439026159517048"
     },
     "user_tz": -480
    },
    "id": "9UqiceB0uDer",
    "outputId": "cc8ef83c-c0f4-47ab-8cfc-3d465ceb8db9"
   },
   "outputs": [],
   "source": [
    "new_menu.drop_duplicates(inplace=True)\n",
    "new_menu.shape"
   ]
  },
  {
   "cell_type": "markdown",
   "metadata": {
    "id": "lVU2p-ysuDer"
   },
   "source": [
    "## 3.3 Missing Value\n",
    "### 3.3.1 Calculate the number of missing value of each column in the dataframe"
   ]
  },
  {
   "cell_type": "code",
   "execution_count": null,
   "metadata": {
    "colab": {
     "base_uri": "https://localhost:8080/"
    },
    "executionInfo": {
     "elapsed": 5,
     "status": "ok",
     "timestamp": 1714905083212,
     "user": {
      "displayName": "CHERN HONG KOH",
      "userId": "10658439026159517048"
     },
     "user_tz": -480
    },
    "id": "Vbgru_2-lpnw",
    "outputId": "676cb513-e873-4077-8048-7b33870c133a"
   },
   "outputs": [],
   "source": [
    "new_restaurant.isna().sum()"
   ]
  },
  {
   "cell_type": "code",
   "execution_count": null,
   "metadata": {
    "colab": {
     "base_uri": "https://localhost:8080/"
    },
    "executionInfo": {
     "elapsed": 1001,
     "status": "ok",
     "timestamp": 1714905084211,
     "user": {
      "displayName": "CHERN HONG KOH",
      "userId": "10658439026159517048"
     },
     "user_tz": -480
    },
    "id": "LzCyzYselpx7",
    "outputId": "6e6b79f2-a962-4019-d1c0-17ce1e565614"
   },
   "outputs": [],
   "source": [
    "new_menu.isna().sum()"
   ]
  },
  {
   "cell_type": "markdown",
   "metadata": {
    "id": "RaoQwDE9uDe0"
   },
   "source": [
    "### 3.3.2 Matrix Plot\n",
    "#### Showing the presence of missing values in dataframe"
   ]
  },
  {
   "cell_type": "code",
   "execution_count": null,
   "metadata": {
    "colab": {
     "base_uri": "https://localhost:8080/",
     "height": 834
    },
    "executionInfo": {
     "elapsed": 1739,
     "status": "ok",
     "timestamp": 1714905085946,
     "user": {
      "displayName": "CHERN HONG KOH",
      "userId": "10658439026159517048"
     },
     "user_tz": -480
    },
    "id": "yy4XwUVrlp6v",
    "outputId": "355bb708-37fa-4e90-fd59-5a75ba85b996"
   },
   "outputs": [],
   "source": [
    "msno.matrix(new_restaurant)"
   ]
  },
  {
   "cell_type": "code",
   "execution_count": null,
   "metadata": {
    "colab": {
     "base_uri": "https://localhost:8080/",
     "height": 835
    },
    "executionInfo": {
     "elapsed": 12216,
     "status": "ok",
     "timestamp": 1714905098670,
     "user": {
      "displayName": "CHERN HONG KOH",
      "userId": "10658439026159517048"
     },
     "user_tz": -480
    },
    "id": "cXYrtVHGlqAz",
    "outputId": "35736624-3bf7-4cdd-f866-6162e076a7dd"
   },
   "outputs": [],
   "source": [
    "msno.matrix(new_menu)"
   ]
  },
  {
   "cell_type": "markdown",
   "metadata": {
    "id": "zWcwyFW-uDe0"
   },
   "source": [
    "### 3.3.3 Calculate the missing value\n",
    "#### To find out the total of missing value of each columns"
   ]
  },
  {
   "cell_type": "code",
   "execution_count": null,
   "metadata": {
    "colab": {
     "base_uri": "https://localhost:8080/"
    },
    "executionInfo": {
     "elapsed": 20,
     "status": "ok",
     "timestamp": 1714905098670,
     "user": {
      "displayName": "CHERN HONG KOH",
      "userId": "10658439026159517048"
     },
     "user_tz": -480
    },
    "id": "0muh0hoP9olm",
    "outputId": "19d1b597-eeb6-48eb-8a5b-62c826a978d0"
   },
   "outputs": [],
   "source": [
    "new_restaurant.isna().sum()"
   ]
  },
  {
   "cell_type": "markdown",
   "metadata": {
    "id": "uaNCoycjuDe0"
   },
   "source": [
    "### 3.3.4 Replace the missing value\n",
    "#### Use mean of each numerical column (Ratings, Score, Price Range) to replace the missing value"
   ]
  },
  {
   "cell_type": "code",
   "execution_count": null,
   "metadata": {
    "colab": {
     "base_uri": "https://localhost:8080/"
    },
    "executionInfo": {
     "elapsed": 17,
     "status": "ok",
     "timestamp": 1714905098670,
     "user": {
      "displayName": "CHERN HONG KOH",
      "userId": "10658439026159517048"
     },
     "user_tz": -480
    },
    "id": "WaEc5AjHS3FG",
    "outputId": "1168cd6b-84fd-42a6-d949-b11fc60d3d89"
   },
   "outputs": [],
   "source": [
    "new_restaurant = new_restaurant.fillna({\"Ratings\" : new_restaurant[\"Ratings\"].mean(),\n",
    "                                        \"Score\" : new_restaurant[\"Score\"].mean()})\n",
    "new_restaurant.isna().sum()"
   ]
  },
  {
   "cell_type": "markdown",
   "metadata": {
    "id": "4ogUNMU3uDe1"
   },
   "source": [
    "### 3.3.5 Drop the row\n",
    "#### To drop the row which has less missing value to ensure the consistency of dataset"
   ]
  },
  {
   "cell_type": "code",
   "execution_count": null,
   "metadata": {
    "colab": {
     "base_uri": "https://localhost:8080/"
    },
    "executionInfo": {
     "elapsed": 17,
     "status": "ok",
     "timestamp": 1714905098671,
     "user": {
      "displayName": "CHERN HONG KOH",
      "userId": "10658439026159517048"
     },
     "user_tz": -480
    },
    "id": "VY5pC9w5F6FT",
    "outputId": "48a4b8c7-e2de-4cc5-929c-37af2c64f704"
   },
   "outputs": [],
   "source": [
    "new_restaurant.dropna(inplace=True)\n",
    "new_restaurant.isna().sum()"
   ]
  },
  {
   "cell_type": "markdown",
   "metadata": {
    "id": "cfMIJKF_uDe1"
   },
   "source": [
    "## 3.4 Outlier"
   ]
  },
  {
   "cell_type": "markdown",
   "metadata": {
    "id": "iT1DYgq5uDe1"
   },
   "source": [
    "### 3.4.1 Detect the outliers by using scatter plot"
   ]
  },
  {
   "cell_type": "code",
   "execution_count": null,
   "metadata": {
    "colab": {
     "base_uri": "https://localhost:8080/"
    },
    "executionInfo": {
     "elapsed": 16,
     "status": "ok",
     "timestamp": 1714905098671,
     "user": {
      "displayName": "CHERN HONG KOH",
      "userId": "10658439026159517048"
     },
     "user_tz": -480
    },
    "id": "q8yBBnW3uDe1",
    "outputId": "42b6696f-542d-43ca-8d96-0376d0eac455"
   },
   "outputs": [],
   "source": [
    "new_restaurant.shape"
   ]
  },
  {
   "cell_type": "code",
   "execution_count": null,
   "metadata": {
    "colab": {
     "base_uri": "https://localhost:8080/",
     "height": 807
    },
    "executionInfo": {
     "elapsed": 2003,
     "status": "ok",
     "timestamp": 1714905100659,
     "user": {
      "displayName": "CHERN HONG KOH",
      "userId": "10658439026159517048"
     },
     "user_tz": -480
    },
    "id": "0yKfsE0cuDe1",
    "outputId": "cddbdc48-b7f2-4f0e-c402-6940af9c9db9"
   },
   "outputs": [],
   "source": [
    "plt.figure(figsize=(12, 8))\n",
    "\n",
    "plt.subplot(2, 3, 1)\n",
    "plt.scatter(new_restaurant['Position'], range(len(new_restaurant)))\n",
    "plt.title('Position')\n",
    "plt.xlabel('Position')\n",
    "plt.ylabel('Index')\n",
    "\n",
    "plt.subplot(2, 3, 2)\n",
    "plt.scatter(new_restaurant['Latitude'], range(len(new_restaurant)))\n",
    "plt.title('Latitude')\n",
    "plt.xlabel('Latitude')\n",
    "plt.ylabel('Index')\n",
    "\n",
    "plt.subplot(2, 3, 3)\n",
    "plt.scatter(new_restaurant['Longitude'], range(len(new_restaurant)))\n",
    "plt.title('Longitude')\n",
    "plt.xlabel('Longitude')\n",
    "plt.ylabel('Index')\n",
    "\n",
    "plt.subplot(2, 3, 4)\n",
    "plt.scatter(new_restaurant['Ratings'], range(len(new_restaurant)))\n",
    "plt.title('Ratings')\n",
    "plt.xlabel('Ratings')\n",
    "plt.ylabel('Index')\n",
    "\n",
    "plt.subplot(2, 3, 5)\n",
    "plt.scatter(new_restaurant['Score'], range(len(new_restaurant)))\n",
    "plt.title('Score')\n",
    "plt.xlabel('Score')\n",
    "plt.ylabel('Index')\n",
    "\n",
    "plt.tight_layout()\n",
    "plt.show()"
   ]
  },
  {
   "cell_type": "markdown",
   "metadata": {
    "id": "ZxXqwG3auDe2"
   },
   "source": [
    "## 3.4.2 Keep the outliers\n",
    "#### As it has a large amount of outliers, if change the outliers value or delete them maybe will occur problem to data integrity"
   ]
  },
  {
   "cell_type": "markdown",
   "metadata": {
    "id": "R_CZsTHZuDe2"
   },
   "source": [
    "## 3.5 Invalid Data\n",
    "#### 3.5.1 Remove the USD sign in the row"
   ]
  },
  {
   "cell_type": "code",
   "execution_count": null,
   "metadata": {
    "executionInfo": {
     "elapsed": 2,
     "status": "ok",
     "timestamp": 1714905100659,
     "user": {
      "displayName": "CHERN HONG KOH",
      "userId": "10658439026159517048"
     },
     "user_tz": -480
    },
    "id": "Z9N7coKqUFA5"
   },
   "outputs": [],
   "source": [
    "def convert_price(price_str):\n",
    "    try:\n",
    "        price = float(price_str.replace('USD', '').strip())\n",
    "        return price\n",
    "    except ValueError:\n",
    "        return None"
   ]
  },
  {
   "cell_type": "markdown",
   "metadata": {
    "id": "pS5xGs0ZuDe2"
   },
   "source": [
    "## 3.6 Data Type Issue"
   ]
  },
  {
   "cell_type": "markdown",
   "metadata": {
    "id": "2Go2W607uDe2"
   },
   "source": [
    "#### 3.6.1 Convert the 'Price' columns from object to float"
   ]
  },
  {
   "cell_type": "code",
   "execution_count": null,
   "metadata": {
    "executionInfo": {
     "elapsed": 2100,
     "status": "ok",
     "timestamp": 1714905102757,
     "user": {
      "displayName": "CHERN HONG KOH",
      "userId": "10658439026159517048"
     },
     "user_tz": -480
    },
    "id": "LeFhopMpUNTZ"
   },
   "outputs": [],
   "source": [
    "new_menu['Price'] = new_menu['Price'].apply(convert_price)"
   ]
  },
  {
   "cell_type": "code",
   "execution_count": null,
   "metadata": {
    "colab": {
     "base_uri": "https://localhost:8080/"
    },
    "executionInfo": {
     "elapsed": 11,
     "status": "ok",
     "timestamp": 1714905102757,
     "user": {
      "displayName": "CHERN HONG KOH",
      "userId": "10658439026159517048"
     },
     "user_tz": -480
    },
    "id": "m6MI2uv8URH3",
    "outputId": "199163e0-30e9-4f83-e070-2714edcd1988"
   },
   "outputs": [],
   "source": [
    "new_menu.info()"
   ]
  },
  {
   "cell_type": "markdown",
   "metadata": {
    "id": "tzc_iP1puDe3"
   },
   "source": [
    "## 3.7 Inconsistent Data"
   ]
  },
  {
   "cell_type": "markdown",
   "metadata": {
    "id": "KKCjiMLmuDe3"
   },
   "source": [
    "#### 3.7.1 Detect the inconsistent data in Score column"
   ]
  },
  {
   "cell_type": "code",
   "execution_count": null,
   "metadata": {
    "colab": {
     "base_uri": "https://localhost:8080/"
    },
    "executionInfo": {
     "elapsed": 8,
     "status": "ok",
     "timestamp": 1714905102757,
     "user": {
      "displayName": "CHERN HONG KOH",
      "userId": "10658439026159517048"
     },
     "user_tz": -480
    },
    "id": "yEBzyGpXuDe3",
    "outputId": "a6091f54-d6e4-4447-be28-5576b3c258c0"
   },
   "outputs": [],
   "source": [
    "inconsistent_score = new_restaurant[(new_restaurant['Score'] < 0) & (new_restaurant['Score'] > 5)]\n",
    "\n",
    "if inconsistent_score.empty:\n",
    "    print(\"There is not any inconsistent score in this dataset.\")\n",
    "else:\n",
    "    print(\"Inconsistent Scores:\")\n",
    "    print(inconsistent_score)"
   ]
  },
  {
   "cell_type": "markdown",
   "metadata": {
    "id": "R1EqyHUluDe3"
   },
   "source": [
    "#### 3.7.2 Detect the inconsistent data in Ratings column"
   ]
  },
  {
   "cell_type": "code",
   "execution_count": null,
   "metadata": {
    "colab": {
     "base_uri": "https://localhost:8080/"
    },
    "executionInfo": {
     "elapsed": 6,
     "status": "ok",
     "timestamp": 1714905102757,
     "user": {
      "displayName": "CHERN HONG KOH",
      "userId": "10658439026159517048"
     },
     "user_tz": -480
    },
    "id": "ad11RvMLuDe3",
    "outputId": "13e57313-2f7c-461b-ad75-75fdecb5c222"
   },
   "outputs": [],
   "source": [
    "inconsistent_ratings = new_restaurant[(new_restaurant['Ratings'] < 0) & (new_restaurant['Ratings'] > 100)]\n",
    "\n",
    "if inconsistent_ratings.empty:\n",
    "    print(\"There is not any inconsistent ratings in this dataset.\")\n",
    "else:\n",
    "    print(\"Inconsistent Ratings:\")\n",
    "    print(inconsistent_ratings)"
   ]
  },
  {
   "cell_type": "markdown",
   "metadata": {
    "id": "rG0I0YI6uDe4"
   },
   "source": [
    "#### 3.7.3 Detect the inconsistent data in Price column"
   ]
  },
  {
   "cell_type": "code",
   "execution_count": null,
   "metadata": {
    "colab": {
     "base_uri": "https://localhost:8080/"
    },
    "executionInfo": {
     "elapsed": 5,
     "status": "ok",
     "timestamp": 1714905102757,
     "user": {
      "displayName": "CHERN HONG KOH",
      "userId": "10658439026159517048"
     },
     "user_tz": -480
    },
    "id": "axj0LeaTuDe4",
    "outputId": "07f935a6-fa76-44de-b458-daebf47bf75d"
   },
   "outputs": [],
   "source": [
    "inconsistent_prices = new_menu[new_menu['Price'] <= 0]\n",
    "\n",
    "if inconsistent_prices.empty:\n",
    "    print(\"There is not any inconsistent price in this dataset.\")\n",
    "else:\n",
    "    print(\"Number of Inconsistent Prices:\",len(inconsistent_prices))"
   ]
  },
  {
   "cell_type": "markdown",
   "metadata": {
    "id": "jVM_jBK0uDe4"
   },
   "source": [
    "#### 3.7.4 Replace these inconsistent data with mean"
   ]
  },
  {
   "cell_type": "code",
   "execution_count": null,
   "metadata": {
    "executionInfo": {
     "elapsed": 4,
     "status": "ok",
     "timestamp": 1714905102757,
     "user": {
      "displayName": "CHERN HONG KOH",
      "userId": "10658439026159517048"
     },
     "user_tz": -480
    },
    "id": "tsNJZWkluDe4"
   },
   "outputs": [],
   "source": [
    "new_menu.loc[new_menu['Price'] <= 0, 'Price'] = new_menu['Price'].mean()"
   ]
  },
  {
   "cell_type": "code",
   "execution_count": null,
   "metadata": {
    "colab": {
     "base_uri": "https://localhost:8080/"
    },
    "executionInfo": {
     "elapsed": 4,
     "status": "ok",
     "timestamp": 1714905102757,
     "user": {
      "displayName": "CHERN HONG KOH",
      "userId": "10658439026159517048"
     },
     "user_tz": -480
    },
    "id": "ZcN7Hf2xuDe4",
    "outputId": "21287646-2000-4511-dc1a-5f7c6488fc1c"
   },
   "outputs": [],
   "source": [
    "inconsistent_prices = new_menu[new_menu['Price'] <= 0]\n",
    "\n",
    "if inconsistent_prices.empty:\n",
    "    print(\"There is not any inconsistent price in this dataset.\")\n",
    "else:\n",
    "    print(\"Inconsistent Prices:\")\n",
    "    print(inconsistent_prices)"
   ]
  },
  {
   "cell_type": "markdown",
   "metadata": {
    "id": "iuHQ9-tAuDe4"
   },
   "source": [
    "## 3.8 Contaminated Data\n",
    "### 3.8.1 Check the present of contaminated data"
   ]
  },
  {
   "cell_type": "code",
   "execution_count": null,
   "metadata": {
    "colab": {
     "base_uri": "https://localhost:8080/",
     "height": 424
    },
    "executionInfo": {
     "elapsed": 732,
     "status": "ok",
     "timestamp": 1714905103486,
     "user": {
      "displayName": "CHERN HONG KOH",
      "userId": "10658439026159517048"
     },
     "user_tz": -480
    },
    "id": "ry1UUGH1uDe5",
    "outputId": "797012b1-f045-46a4-a893-4093fcf7a045"
   },
   "outputs": [],
   "source": [
    "new_restaurant"
   ]
  },
  {
   "cell_type": "code",
   "execution_count": null,
   "metadata": {
    "colab": {
     "base_uri": "https://localhost:8080/",
     "height": 424
    },
    "executionInfo": {
     "elapsed": 6,
     "status": "ok",
     "timestamp": 1714905103486,
     "user": {
      "displayName": "CHERN HONG KOH",
      "userId": "10658439026159517048"
     },
     "user_tz": -480
    },
    "id": "RYSjaVF4uDe5",
    "outputId": "c3f2dd8c-9660-4b84-f427-0e5796d91ff5"
   },
   "outputs": [],
   "source": [
    "new_menu"
   ]
  },
  {
   "cell_type": "markdown",
   "metadata": {
    "id": "34CnXUqHuDe5"
   },
   "source": [
    "### 3.8.2 Drop the corrupted column\n",
    "#### To reduce redundancy, improve computational efficiency, and focus on relevant data for analysis"
   ]
  },
  {
   "cell_type": "code",
   "execution_count": null,
   "metadata": {
    "colab": {
     "base_uri": "https://localhost:8080/",
     "height": 206
    },
    "executionInfo": {
     "elapsed": 6,
     "status": "ok",
     "timestamp": 1714905103486,
     "user": {
      "displayName": "CHERN HONG KOH",
      "userId": "10658439026159517048"
     },
     "user_tz": -480
    },
    "id": "qsEbZclguDe5",
    "outputId": "959c3b52-75c5-4943-db9e-732be54a7310"
   },
   "outputs": [],
   "source": [
    "new_restaurant.drop(\"Price_range\", axis = 1, inplace = True)\n",
    "new_restaurant.head()"
   ]
  },
  {
   "cell_type": "code",
   "execution_count": null,
   "metadata": {
    "colab": {
     "base_uri": "https://localhost:8080/",
     "height": 206
    },
    "executionInfo": {
     "elapsed": 562,
     "status": "ok",
     "timestamp": 1714905104044,
     "user": {
      "displayName": "CHERN HONG KOH",
      "userId": "10658439026159517048"
     },
     "user_tz": -480
    },
    "id": "c7b8daEPS2xq",
    "outputId": "723c6f0c-eb78-49ed-876a-5dcd3c5c08e7"
   },
   "outputs": [],
   "source": [
    "new_menu.drop(\"Description\", axis = 1, inplace = True)\n",
    "new_menu.head()"
   ]
  },
  {
   "cell_type": "markdown",
   "metadata": {
    "id": "QNQI5Wn2uDe5"
   },
   "source": [
    "## 3.9 Structural Errors"
   ]
  },
  {
   "cell_type": "markdown",
   "metadata": {
    "id": "LXIE2ONhuDe6"
   },
   "source": [
    "#### 3.9.1 Do a stuructural checking for the dataset"
   ]
  },
  {
   "cell_type": "markdown",
   "metadata": {
    "id": "gMVgoh5NuDe6"
   },
   "source": [
    "##### 3.9.1.1 Check for missing value"
   ]
  },
  {
   "cell_type": "code",
   "execution_count": null,
   "metadata": {
    "colab": {
     "base_uri": "https://localhost:8080/"
    },
    "executionInfo": {
     "elapsed": 27,
     "status": "ok",
     "timestamp": 1714905104045,
     "user": {
      "displayName": "CHERN HONG KOH",
      "userId": "10658439026159517048"
     },
     "user_tz": -480
    },
    "id": "PAa609XEuDe6",
    "outputId": "bd628463-ca84-4099-c4e2-8bb9cf14d5ec"
   },
   "outputs": [],
   "source": [
    "new_restaurant.isna().sum()"
   ]
  },
  {
   "cell_type": "code",
   "execution_count": null,
   "metadata": {
    "colab": {
     "base_uri": "https://localhost:8080/"
    },
    "executionInfo": {
     "elapsed": 17,
     "status": "ok",
     "timestamp": 1714905104045,
     "user": {
      "displayName": "CHERN HONG KOH",
      "userId": "10658439026159517048"
     },
     "user_tz": -480
    },
    "id": "BTZ9Hw-FuDe6",
    "outputId": "974f9467-5833-464d-9f9b-ee9eff14fc53"
   },
   "outputs": [],
   "source": [
    "new_menu.isna().sum()"
   ]
  },
  {
   "cell_type": "markdown",
   "metadata": {
    "id": "sTsvjPDyuDe6"
   },
   "source": [
    "##### 3.9.1.2 Check for Data Type"
   ]
  },
  {
   "cell_type": "code",
   "execution_count": null,
   "metadata": {
    "colab": {
     "base_uri": "https://localhost:8080/"
    },
    "executionInfo": {
     "elapsed": 10,
     "status": "ok",
     "timestamp": 1714905104045,
     "user": {
      "displayName": "CHERN HONG KOH",
      "userId": "10658439026159517048"
     },
     "user_tz": -480
    },
    "id": "fIppIh4CuDe6",
    "outputId": "57d29c76-e4ac-4d40-ff33-8cb737264a0b"
   },
   "outputs": [],
   "source": [
    "new_restaurant.dtypes"
   ]
  },
  {
   "cell_type": "code",
   "execution_count": null,
   "metadata": {
    "colab": {
     "base_uri": "https://localhost:8080/"
    },
    "executionInfo": {
     "elapsed": 8,
     "status": "ok",
     "timestamp": 1714905104045,
     "user": {
      "displayName": "CHERN HONG KOH",
      "userId": "10658439026159517048"
     },
     "user_tz": -480
    },
    "id": "NXPxa2KZuDe7",
    "outputId": "26ee6111-0cc4-4121-a2df-5c78d1a3d346"
   },
   "outputs": [],
   "source": [
    "new_menu.dtypes"
   ]
  },
  {
   "cell_type": "markdown",
   "metadata": {
    "id": "I2g52_twuDe7"
   },
   "source": [
    "##### 3.9.1.3 Check for duplicate row"
   ]
  },
  {
   "cell_type": "code",
   "execution_count": null,
   "metadata": {
    "colab": {
     "base_uri": "https://localhost:8080/"
    },
    "executionInfo": {
     "elapsed": 376,
     "status": "ok",
     "timestamp": 1714905104416,
     "user": {
      "displayName": "CHERN HONG KOH",
      "userId": "10658439026159517048"
     },
     "user_tz": -480
    },
    "id": "TEIKgN-suDe7",
    "outputId": "a6103224-35b8-4c67-ccda-ab88f9a0f0f3"
   },
   "outputs": [],
   "source": [
    "new_restaurant.duplicated().sum()"
   ]
  },
  {
   "cell_type": "code",
   "execution_count": null,
   "metadata": {
    "colab": {
     "base_uri": "https://localhost:8080/"
    },
    "executionInfo": {
     "elapsed": 3608,
     "status": "ok",
     "timestamp": 1714905108023,
     "user": {
      "displayName": "CHERN HONG KOH",
      "userId": "10658439026159517048"
     },
     "user_tz": -480
    },
    "id": "mygK4WtfuDe7",
    "outputId": "c661f690-3bff-41d9-adc6-b1a92be73ec6"
   },
   "outputs": [],
   "source": [
    "new_menu.duplicated().sum()"
   ]
  },
  {
   "cell_type": "code",
   "execution_count": null,
   "metadata": {
    "colab": {
     "base_uri": "https://localhost:8080/"
    },
    "executionInfo": {
     "elapsed": 6271,
     "status": "ok",
     "timestamp": 1714905114282,
     "user": {
      "displayName": "CHERN HONG KOH",
      "userId": "10658439026159517048"
     },
     "user_tz": -480
    },
    "id": "gNOpajgLuDe7",
    "outputId": "561d17ea-873f-45cf-847d-3929ac52017d"
   },
   "outputs": [],
   "source": [
    "new_menu.drop_duplicates(inplace=True)\n",
    "new_menu.shape"
   ]
  },
  {
   "cell_type": "markdown",
   "metadata": {
    "id": "ZOdN1EiZuDe7"
   },
   "source": [
    "##### 3.9.1.4 Check for inconsistent data"
   ]
  },
  {
   "cell_type": "code",
   "execution_count": null,
   "metadata": {
    "colab": {
     "base_uri": "https://localhost:8080/"
    },
    "executionInfo": {
     "elapsed": 8,
     "status": "ok",
     "timestamp": 1714905114283,
     "user": {
      "displayName": "CHERN HONG KOH",
      "userId": "10658439026159517048"
     },
     "user_tz": -480
    },
    "id": "7p4jIBPIuDe8",
    "outputId": "c927ea83-5f37-449c-a1e3-396f2eb95ec0"
   },
   "outputs": [],
   "source": [
    "inconsistent_score = new_restaurant[(new_restaurant['Score'] < 0) & (new_restaurant['Score'] > 5)]\n",
    "\n",
    "if inconsistent_score.empty:\n",
    "    print(\"There is not any inconsistent score in this dataset.\")\n",
    "else:\n",
    "    print(\"Inconsistent Scores:\", len(inconsistent_score))"
   ]
  },
  {
   "cell_type": "code",
   "execution_count": null,
   "metadata": {
    "colab": {
     "base_uri": "https://localhost:8080/"
    },
    "executionInfo": {
     "elapsed": 5,
     "status": "ok",
     "timestamp": 1714905114283,
     "user": {
      "displayName": "CHERN HONG KOH",
      "userId": "10658439026159517048"
     },
     "user_tz": -480
    },
    "id": "L2c8FKpPuDe8",
    "outputId": "44e2a2fc-d5e4-45b6-a28c-3921f6696e85"
   },
   "outputs": [],
   "source": [
    "inconsistent_ratings = new_restaurant[(new_restaurant['Ratings'] < 0) & (new_restaurant['Ratings'] > 100)]\n",
    "\n",
    "if inconsistent_ratings.empty:\n",
    "    print(\"There is not any inconsistent ratings in this dataset.\")\n",
    "else:\n",
    "    print(\"Inconsistent Ratings:\", len(inconsistent_ratings))"
   ]
  },
  {
   "cell_type": "code",
   "execution_count": null,
   "metadata": {
    "colab": {
     "base_uri": "https://localhost:8080/"
    },
    "executionInfo": {
     "elapsed": 4,
     "status": "ok",
     "timestamp": 1714905114283,
     "user": {
      "displayName": "CHERN HONG KOH",
      "userId": "10658439026159517048"
     },
     "user_tz": -480
    },
    "id": "YsabSWLUuDe8",
    "outputId": "0b69b100-8531-4d87-f987-1cbee9fa9699"
   },
   "outputs": [],
   "source": [
    "inconsistent_prices = new_menu[new_menu['Price'] <= 0]\n",
    "\n",
    "if inconsistent_prices.empty:\n",
    "    print(\"There is not any inconsistent price in this dataset.\")\n",
    "else:\n",
    "    print(\"Number of Inconsistent Prices:\", len(inconsistent_prices))"
   ]
  },
  {
   "cell_type": "markdown",
   "metadata": {
    "id": "ZG6WZ-L1uDe8"
   },
   "source": [
    "## 3.10 Split the Columns\n",
    "### 3.10.1 Split the Address Column\n",
    "#### Split the address column to get the City in each row and create a new column to store it"
   ]
  },
  {
   "cell_type": "code",
   "execution_count": null,
   "metadata": {
    "executionInfo": {
     "elapsed": 3,
     "status": "ok",
     "timestamp": 1714905114283,
     "user": {
      "displayName": "CHERN HONG KOH",
      "userId": "10658439026159517048"
     },
     "user_tz": -480
    },
    "id": "Vp9ifVnUuDe8"
   },
   "outputs": [],
   "source": [
    "def extract_city(address):\n",
    "    if isinstance(address, str):\n",
    "        parts = address.split(',')\n",
    "        city = parts[-3].strip()\n",
    "        return city\n",
    "    else:\n",
    "        return None\n",
    "\n",
    "new_restaurant['City'] = new_restaurant['Address'].apply(extract_city)"
   ]
  },
  {
   "cell_type": "markdown",
   "metadata": {
    "id": "1YpW_26yuDe8"
   },
   "source": [
    "### 3.10.2 Split the Category Column and store into a new dataframe to future use"
   ]
  },
  {
   "cell_type": "code",
   "execution_count": null,
   "metadata": {
    "colab": {
     "base_uri": "https://localhost:8080/"
    },
    "executionInfo": {
     "elapsed": 543,
     "status": "ok",
     "timestamp": 1714905114823,
     "user": {
      "displayName": "CHERN HONG KOH",
      "userId": "10658439026159517048"
     },
     "user_tz": -480
    },
    "id": "SORKjyAQuDe9",
    "outputId": "53166130-e633-4377-a71d-d89b16577d4e"
   },
   "outputs": [],
   "source": [
    "categories_series = new_restaurant['Category'].str.split(', ', expand=True).stack()\n",
    "\n",
    "category_counts = categories_series.value_counts().reset_index()\n",
    "\n",
    "category_counts.columns = ['Category', 'Count']\n",
    "\n",
    "print(category_counts.head(10))"
   ]
  },
  {
   "cell_type": "markdown",
   "metadata": {
    "id": "5CZWgWCGuDe9"
   },
   "source": [
    "## 3.11 Checking for the dataframe after data cleaning"
   ]
  },
  {
   "cell_type": "code",
   "execution_count": null,
   "metadata": {
    "colab": {
     "base_uri": "https://localhost:8080/"
    },
    "executionInfo": {
     "elapsed": 6,
     "status": "ok",
     "timestamp": 1714905114823,
     "user": {
      "displayName": "CHERN HONG KOH",
      "userId": "10658439026159517048"
     },
     "user_tz": -480
    },
    "id": "zv9yEzVyHXLm",
    "outputId": "751dd804-4836-4c85-9348-4fb2d12036f2"
   },
   "outputs": [],
   "source": [
    "new_restaurant.shape"
   ]
  },
  {
   "cell_type": "code",
   "execution_count": null,
   "metadata": {
    "colab": {
     "base_uri": "https://localhost:8080/",
     "height": 206
    },
    "executionInfo": {
     "elapsed": 5,
     "status": "ok",
     "timestamp": 1714905114823,
     "user": {
      "displayName": "CHERN HONG KOH",
      "userId": "10658439026159517048"
     },
     "user_tz": -480
    },
    "id": "4AgaqmNUbN-p",
    "outputId": "e3fc37ad-3e07-4ce3-8c06-bf0ac721647d"
   },
   "outputs": [],
   "source": [
    "new_restaurant.head()"
   ]
  },
  {
   "cell_type": "code",
   "execution_count": null,
   "metadata": {
    "colab": {
     "base_uri": "https://localhost:8080/",
     "height": 206
    },
    "executionInfo": {
     "elapsed": 4,
     "status": "ok",
     "timestamp": 1714905114823,
     "user": {
      "displayName": "CHERN HONG KOH",
      "userId": "10658439026159517048"
     },
     "user_tz": -480
    },
    "id": "U83V8BaUlqJG",
    "outputId": "cf8bb2f8-df7b-46e4-a7cd-66d4e8b10d82"
   },
   "outputs": [],
   "source": [
    "new_menu.head()"
   ]
  },
  {
   "cell_type": "markdown",
   "metadata": {
    "id": "iZZe08-7uDe9"
   },
   "source": [
    "## 3.12 Merge the datasets by Id for futher use"
   ]
  },
  {
   "cell_type": "code",
   "execution_count": null,
   "metadata": {
    "colab": {
     "base_uri": "https://localhost:8080/",
     "height": 310
    },
    "executionInfo": {
     "elapsed": 1521,
     "status": "ok",
     "timestamp": 1714905116341,
     "user": {
      "displayName": "CHERN HONG KOH",
      "userId": "10658439026159517048"
     },
     "user_tz": -480
    },
    "id": "SzhNcyipuDe-",
    "outputId": "deeb49b8-15cb-4924-82ee-6ab8b28a9a0f"
   },
   "outputs": [],
   "source": [
    "restaurant_merge = pd.merge(new_restaurant, new_menu, left_on='Id', right_on='Restaurant ID')\n",
    "restaurant_merge.head()"
   ]
  },
  {
   "cell_type": "code",
   "execution_count": null,
   "metadata": {
    "colab": {
     "base_uri": "https://localhost:8080/"
    },
    "executionInfo": {
     "elapsed": 6,
     "status": "ok",
     "timestamp": 1714905116342,
     "user": {
      "displayName": "CHERN HONG KOH",
      "userId": "10658439026159517048"
     },
     "user_tz": -480
    },
    "id": "YQ6cxUb2MJLz",
    "outputId": "d9b64386-a3dc-4409-cfac-df61306301bf"
   },
   "outputs": [],
   "source": [
    "restaurant_merge.info()"
   ]
  },
  {
   "cell_type": "code",
   "execution_count": null,
   "metadata": {
    "colab": {
     "base_uri": "https://localhost:8080/"
    },
    "executionInfo": {
     "elapsed": 2137,
     "status": "ok",
     "timestamp": 1714905118477,
     "user": {
      "displayName": "CHERN HONG KOH",
      "userId": "10658439026159517048"
     },
     "user_tz": -480
    },
    "id": "aRmSmr97uDe-",
    "outputId": "d877dc07-63a3-41ed-f621-8bcd351b2f45"
   },
   "outputs": [],
   "source": [
    "restaurant_merge.dropna(inplace=True)\n",
    "restaurant_merge.shape"
   ]
  },
  {
   "cell_type": "code",
   "execution_count": null,
   "metadata": {
    "executionInfo": {
     "elapsed": 80443,
     "status": "ok",
     "timestamp": 1714905198918,
     "user": {
      "displayName": "CHERN HONG KOH",
      "userId": "10658439026159517048"
     },
     "user_tz": -480
    },
    "id": "xv9OSLYg9yEW"
   },
   "outputs": [],
   "source": [
    "new_restaurant.to_csv('new_restaurant.csv', index=False)\n",
    "new_menu.to_csv('new_menu.csv', index=False)\n",
    "restaurant_merge.to_csv('restaurant_merge.csv', index=False)"
   ]
  },
  {
   "cell_type": "markdown",
   "metadata": {
    "id": "luU1hSKLA--0"
   },
   "source": [
    "# 4.0 Exploratory Data Analysis (EDA)"
   ]
  },
  {
   "cell_type": "markdown",
   "metadata": {
    "id": "gbNtv2XFuDe-"
   },
   "source": [
    "## 4.1 Find out the numver of restaurant around the USA"
   ]
  },
  {
   "cell_type": "code",
   "execution_count": null,
   "metadata": {
    "colab": {
     "base_uri": "https://localhost:8080/"
    },
    "executionInfo": {
     "elapsed": 15,
     "status": "ok",
     "timestamp": 1714905198918,
     "user": {
      "displayName": "CHERN HONG KOH",
      "userId": "10658439026159517048"
     },
     "user_tz": -480
    },
    "id": "VfXEYUTfZZlw",
    "outputId": "c4b2f49c-10a8-4066-b861-b65ceacf5dee"
   },
   "outputs": [],
   "source": [
    "num_restaurants_usa = restaurant_merge['Postal_Code'].nunique()\n",
    "\n",
    "print(\"Estimated number of restaurants around the USA:\", num_restaurants_usa)"
   ]
  },
  {
   "cell_type": "markdown",
   "metadata": {
    "id": "GzeiJ20IuDe_"
   },
   "source": [
    "## 4.2 Wordcloud for Category column"
   ]
  },
  {
   "cell_type": "code",
   "execution_count": null,
   "metadata": {
    "colab": {
     "base_uri": "https://localhost:8080/",
     "height": 422
    },
    "executionInfo": {
     "elapsed": 1829,
     "status": "ok",
     "timestamp": 1714905201258,
     "user": {
      "displayName": "CHERN HONG KOH",
      "userId": "10658439026159517048"
     },
     "user_tz": -480
    },
    "id": "s-rbcLJsY1uF",
    "outputId": "e0b5d276-fc60-4077-a4c3-b629fbc4e4bf"
   },
   "outputs": [],
   "source": [
    "text = ' '.join(category_counts[\"Category\"].dropna())\n",
    "\n",
    "wordcloud = WordCloud(width=800, height=400, background_color='white').generate(text)\n",
    "plt.figure(figsize=(10, 5))\n",
    "plt.imshow(wordcloud, interpolation='bilinear')\n",
    "plt.axis('off')\n",
    "plt.show()"
   ]
  },
  {
   "cell_type": "markdown",
   "metadata": {
    "id": "cShpcuWNuDe_"
   },
   "source": [
    "## 4.3 Histogram\n",
    "#### Represent the distribution of Position (frequency, mean and median)"
   ]
  },
  {
   "cell_type": "code",
   "execution_count": null,
   "metadata": {
    "colab": {
     "base_uri": "https://localhost:8080/",
     "height": 472
    },
    "executionInfo": {
     "elapsed": 1134,
     "status": "ok",
     "timestamp": 1714905202389,
     "user": {
      "displayName": "CHERN HONG KOH",
      "userId": "10658439026159517048"
     },
     "user_tz": -480
    },
    "id": "QizBMKZ2NENY",
    "outputId": "80383048-3b2c-432e-cc03-ea58f03fd4c7"
   },
   "outputs": [],
   "source": [
    "sns.histplot(data=new_restaurant, x=\"Position\", bins=15, color='red', alpha=0.5, kde=True)\n",
    "plt.xlabel('Position')\n",
    "plt.ylabel('Frequency')\n",
    "plt.title('Distribution of Position')\n",
    "\n",
    "mean_score = new_restaurant['Position'].mean()\n",
    "median_score = new_restaurant['Position'].median()\n",
    "\n",
    "plt.axvline(x=mean_score, color='yellow', linestyle='--', label=f'Mean: {mean_score:.2f}')\n",
    "plt.axvline(x=median_score, color='cyan', linestyle='--', label=f'Median: {median_score:.2f}')\n",
    "\n",
    "plt.show()"
   ]
  },
  {
   "cell_type": "markdown",
   "metadata": {
    "id": "vgNCnLu8uDe_"
   },
   "source": [
    "## 4.4 Scatter Plot\n",
    "### 4.4.1 Position vs. Score\n",
    "#### Represent the relationship between the position and score"
   ]
  },
  {
   "cell_type": "code",
   "execution_count": null,
   "metadata": {
    "colab": {
     "base_uri": "https://localhost:8080/",
     "height": 542
    },
    "executionInfo": {
     "elapsed": 10,
     "status": "ok",
     "timestamp": 1714905202389,
     "user": {
      "displayName": "CHERN HONG KOH",
      "userId": "10658439026159517048"
     },
     "user_tz": -480
    },
    "id": "o34eqfLauDe_",
    "outputId": "91cf4316-2b6c-4e53-8567-391627b6cd86"
   },
   "outputs": [],
   "source": [
    "fig = px.scatter(new_restaurant, x='Position', y='Score', title='Scatter Plot of Position vs. Score',\n",
    "                 opacity=0.5, color='Score', color_continuous_scale='viridis',\n",
    "                 hover_data={'Position': True, 'Score': True})\n",
    "\n",
    "fig.update_traces(marker=dict(size=12, line=dict(width=1, color='Black')))\n",
    "\n",
    "fig.update_layout(xaxis_title='Position', yaxis_title='Score')\n",
    "\n",
    "fig.show()"
   ]
  },
  {
   "cell_type": "markdown",
   "metadata": {
    "id": "05zEccS3uDe_"
   },
   "source": [
    "### 4.4.2 Score vs. Ratings\n",
    "#### Represent the relationship between scores and ratings for popular restaurants"
   ]
  },
  {
   "cell_type": "code",
   "execution_count": null,
   "metadata": {
    "colab": {
     "base_uri": "https://localhost:8080/",
     "height": 206
    },
    "executionInfo": {
     "elapsed": 655,
     "status": "ok",
     "timestamp": 1714905203040,
     "user": {
      "displayName": "CHERN HONG KOH",
      "userId": "10658439026159517048"
     },
     "user_tz": -480
    },
    "id": "BgC7GcNIuDfA",
    "outputId": "3363282e-64bf-469b-8aba-45875778818f"
   },
   "outputs": [],
   "source": [
    "popular_restaurant = new_restaurant.sort_values(['Score','Ratings'])\n",
    "popular_restaurant.head()"
   ]
  },
  {
   "cell_type": "code",
   "execution_count": null,
   "metadata": {
    "colab": {
     "base_uri": "https://localhost:8080/",
     "height": 542
    },
    "executionInfo": {
     "elapsed": 8,
     "status": "ok",
     "timestamp": 1714905203040,
     "user": {
      "displayName": "CHERN HONG KOH",
      "userId": "10658439026159517048"
     },
     "user_tz": -480
    },
    "id": "jmNWK3UXuDfA",
    "outputId": "815488aa-464d-45ad-de4b-4b9db33f5381"
   },
   "outputs": [],
   "source": [
    "fig = px.scatter(popular_restaurant, x=\"Score\", y=\"Ratings\",\n",
    "     size_max=45, log_x=True, template='plotly_dark',title=\"Score vs. Ratings\")\n",
    "\n",
    "fig.update_layout(legend=dict(\n",
    "    yanchor=\"top\",\n",
    "    y=0.99,\n",
    "    xanchor=\"left\",\n",
    "    x=0.01\n",
    "))\n",
    "\n",
    "fig.show()"
   ]
  },
  {
   "cell_type": "markdown",
   "metadata": {
    "id": "hkpMohsquDfA"
   },
   "source": [
    "## 4.5 Treemap"
   ]
  },
  {
   "cell_type": "markdown",
   "metadata": {
    "id": "p_a57aKnuDfA"
   },
   "source": [
    "#### 4.5.1 Represent the distribution of the most popular menu, where the size of the rectangle corresponds to the frequency of that category in the dataset."
   ]
  },
  {
   "cell_type": "code",
   "execution_count": null,
   "metadata": {
    "colab": {
     "base_uri": "https://localhost:8080/",
     "height": 542
    },
    "executionInfo": {
     "elapsed": 3105,
     "status": "ok",
     "timestamp": 1714905206142,
     "user": {
      "displayName": "CHERN HONG KOH",
      "userId": "10658439026159517048"
     },
     "user_tz": -480
    },
    "id": "mmCptDn_TLQr",
    "outputId": "53046917-ed98-4cee-c4cb-b0cf03008012"
   },
   "outputs": [],
   "source": [
    "top_menu = new_menu['Name'].value_counts().nlargest(20).index\n",
    "filtered_menu = new_menu[new_menu['Name'].isin(top_menu)]\n",
    "\n",
    "fig = px.treemap(filtered_menu, path=['Name'], title=f'Most Popular Menu')\n",
    "fig.update_traces(textfont_size=14,root_color=\"white\")\n",
    "fig.update_layout(title_font=dict(size=20, family='Arial', color='black'),\n",
    "                  margin = dict(t=50, b=50, r=50, l=50))\n",
    "\n",
    "fig.show()"
   ]
  },
  {
   "cell_type": "markdown",
   "metadata": {
    "id": "X1IwmCA5uDfA"
   },
   "source": [
    "#### 4.5.2 Represent the distribution of menu categories, where the size of the rectangle corresponds to the frequency of that category in the dataset."
   ]
  },
  {
   "cell_type": "code",
   "execution_count": null,
   "metadata": {
    "colab": {
     "base_uri": "https://localhost:8080/",
     "height": 542
    },
    "executionInfo": {
     "elapsed": 23745,
     "status": "ok",
     "timestamp": 1714905229885,
     "user": {
      "displayName": "CHERN HONG KOH",
      "userId": "10658439026159517048"
     },
     "user_tz": -480
    },
    "id": "v7yqzLcsuDfA",
    "outputId": "af8e83c9-8271-4bcd-e5dd-27d97ca5baca"
   },
   "outputs": [],
   "source": [
    "top_categories = new_menu['Category'].value_counts().nlargest(20).index\n",
    "filtered_menu = new_menu[new_menu['Category'].isin(top_categories)]\n",
    "\n",
    "fig = px.treemap(filtered_menu, path=['Category'], title=f'Menu Categories')\n",
    "fig.update_traces(textfont_size=14,root_color=\"white\")\n",
    "fig.update_layout(title_font=dict(size=20, family='Arial', color='black'),\n",
    "                  margin = dict(t=50, b=50, r=50, l=50))\n",
    "\n",
    "fig.show()"
   ]
  },
  {
   "cell_type": "markdown",
   "metadata": {
    "id": "qyqMzKCYuDfB"
   },
   "source": [
    "## 4.6 Funnel Plot\n",
    "#### Represents the top 10 cities with the most amount of restaurants"
   ]
  },
  {
   "cell_type": "code",
   "execution_count": null,
   "metadata": {
    "colab": {
     "base_uri": "https://localhost:8080/",
     "height": 542
    },
    "executionInfo": {
     "elapsed": 7,
     "status": "ok",
     "timestamp": 1714905229885,
     "user": {
      "displayName": "CHERN HONG KOH",
      "userId": "10658439026159517048"
     },
     "user_tz": -480
    },
    "id": "BM2P6J5YuDfB",
    "outputId": "17acba02-e661-4858-aadf-b35c103e67b0"
   },
   "outputs": [],
   "source": [
    "city_counts = new_restaurant['City'].value_counts().reset_index()\n",
    "city_counts.columns = ['City', 'Total Count']\n",
    "\n",
    "top_10_cities = city_counts.nlargest(10, 'Total Count').sort_values(by='Total Count', ascending=True)\n",
    "\n",
    "fig = go.Figure(go.Funnel(\n",
    "    y=top_10_cities['City'],\n",
    "    x=top_10_cities['Total Count'],\n",
    "    textinfo='value',\n",
    "    marker=dict(color=\"skyblue\"),\n",
    "    connector=dict(line=dict(color=\"royalblue\", width=4))\n",
    "))\n",
    "\n",
    "fig.update_layout(\n",
    "    title=\"Top 10 Cities with Most Amount of Restaurants\",\n",
    "    xaxis_title=\"Total Count of Restaurants\",\n",
    "    yaxis_title=\"City\"\n",
    ")\n",
    "\n",
    "fig.show()"
   ]
  },
  {
   "cell_type": "markdown",
   "metadata": {
    "id": "G8xqsyD2uDfB"
   },
   "source": [
    "## 4.7 Radar Chart\n",
    "#### Represent the top 10 unpopular restaurants based on the score"
   ]
  },
  {
   "cell_type": "code",
   "execution_count": null,
   "metadata": {
    "colab": {
     "base_uri": "https://localhost:8080/",
     "height": 542
    },
    "executionInfo": {
     "elapsed": 6,
     "status": "ok",
     "timestamp": 1714905229885,
     "user": {
      "displayName": "CHERN HONG KOH",
      "userId": "10658439026159517048"
     },
     "user_tz": -480
    },
    "id": "dA4AMlLRuDfB",
    "outputId": "b4fd6cb8-bf77-4270-f219-5e9e7751890b"
   },
   "outputs": [],
   "source": [
    "restaurants = popular_restaurant['Name'][:10]\n",
    "scores = popular_restaurant['Score'][:10]\n",
    "\n",
    "colors = ['rgba(255, 0, 0, 0.7)', 'rgba(0, 255, 0, 0.7)', 'rgba(0, 0, 255, 0.7)',\n",
    "          'rgba(255, 255, 0, 0.7)', 'rgba(255, 0, 255, 0.7)', 'rgba(0, 255, 255, 0.7)',\n",
    "          'rgba(128, 0, 0, 0.7)', 'rgba(0, 128, 0, 0.7)', 'rgba(0, 0, 128, 0.7)',\n",
    "          'rgba(128, 128, 0, 0.7)']\n",
    "\n",
    "fig = go.Figure()\n",
    "\n",
    "fig.add_trace(go.Scatterpolar(\n",
    "    r=scores,\n",
    "    theta=restaurants,\n",
    "    fill='toself',\n",
    "    name='Score',\n",
    "    marker=dict(\n",
    "        color=colors,\n",
    "        line=dict(width=1, color='rgba(255, 255, 255, 0.7)')\n",
    "    )\n",
    "))\n",
    "\n",
    "fig.update_layout(\n",
    "    polar=dict(\n",
    "        radialaxis=dict(\n",
    "            visible=True,\n",
    "            range=[0, 3]\n",
    "        )\n",
    "    ),\n",
    "    showlegend=True,\n",
    "    title='Radar Chart of Top 10 Unpopular Restaurants'\n",
    ")\n",
    "\n",
    "fig.show()"
   ]
  },
  {
   "cell_type": "markdown",
   "metadata": {
    "id": "nIeKAMMduDfB"
   },
   "source": [
    "## 4.8 Bubble Plot\n",
    "#### Represent the ratings of restaurants in the top 50 cities in the USA"
   ]
  },
  {
   "cell_type": "code",
   "execution_count": null,
   "metadata": {
    "colab": {
     "base_uri": "https://localhost:8080/",
     "height": 542
    },
    "executionInfo": {
     "elapsed": 702,
     "status": "ok",
     "timestamp": 1714905230582,
     "user": {
      "displayName": "CHERN HONG KOH",
      "userId": "10658439026159517048"
     },
     "user_tz": -480
    },
    "id": "d65qhnXSuDfB",
    "outputId": "bdc21323-634f-46af-8a40-307e49ee23c7"
   },
   "outputs": [],
   "source": [
    "mean_ratings_by_city = new_restaurant.groupby('City')['Ratings'].mean().reset_index()\n",
    "\n",
    "top_50_cities = mean_ratings_by_city.nlargest(50, 'Ratings')['City']\n",
    "\n",
    "filtered_data = new_restaurant[new_restaurant['City'].isin(top_50_cities)]\n",
    "\n",
    "sorted_data = filtered_data.sort_values(by='Ratings', ascending=False)\n",
    "\n",
    "fig = px.scatter(sorted_data, x='City', y='Ratings', size='Ratings', color='City',\n",
    "                 title='Bubble Plot of Ratings for Top 50 Cities in USA (Sorted by Ratings)', hover_name='City',\n",
    "                 hover_data={'Ratings': True, 'City': False})\n",
    "\n",
    "fig.update_layout(xaxis_title='City', yaxis_title='Ratings')\n",
    "\n",
    "fig.show()"
   ]
  },
  {
   "cell_type": "markdown",
   "metadata": {
    "id": "iCKSpEx0uDfC"
   },
   "source": [
    "## 4.9 Heatmap\n",
    "#### This map combines a scatter plot of popular restaurant locations with a heatmap overlay representing the ratings normalized by score"
   ]
  },
  {
   "cell_type": "code",
   "execution_count": null,
   "metadata": {
    "colab": {
     "base_uri": "https://localhost:8080/",
     "height": 542,
     "output_embedded_package_id": "1sCiS1Sy19ksryzTRHAzaQo7WxhAzXw0C"
    },
    "executionInfo": {
     "elapsed": 2837,
     "status": "ok",
     "timestamp": 1714905233416,
     "user": {
      "displayName": "CHERN HONG KOH",
      "userId": "10658439026159517048"
     },
     "user_tz": -480
    },
    "id": "yNm6tlKbuDfC",
    "outputId": "2f1ba364-ac4a-4949-985e-4af757f42732"
   },
   "outputs": [],
   "source": [
    "trace_map = go.Scattermapbox(\n",
    "    lat=popular_restaurant['Latitude'],\n",
    "    lon=popular_restaurant['Longitude'],\n",
    "    mode='markers',\n",
    "    marker=dict(size=10),\n",
    "    text=popular_restaurant['Name']\n",
    ")\n",
    "\n",
    "trace_heatmap = go.Densitymapbox(\n",
    "    lat=popular_restaurant['Latitude'],\n",
    "    lon=popular_restaurant['Longitude'],\n",
    "    z=(popular_restaurant['Ratings'] / popular_restaurant['Score']),\n",
    "    radius=20\n",
    ")\n",
    "\n",
    "layout = go.Layout(\n",
    "    title='Heatmap of Popular Restaurants',\n",
    "    mapbox=dict(\n",
    "        style=\"open-street-map\",\n",
    "        center=dict(\n",
    "            lat=37.09024,\n",
    "            lon=-95.712891\n",
    "        ),\n",
    "        zoom=4.3\n",
    "    )\n",
    ")\n",
    "\n",
    "fig = go.Figure(data=[trace_map, trace_heatmap], layout=layout)\n",
    "\n",
    "fig.show()"
   ]
  },
  {
   "cell_type": "markdown",
   "metadata": {
    "id": "jBIylPhYuDfC"
   },
   "source": [
    "## 4.10 Folium Map\n",
    "#### Display the markers for locations of five-star restaurants, with each marker indicating the restaurant's address."
   ]
  },
  {
   "cell_type": "code",
   "execution_count": null,
   "metadata": {
    "colab": {
     "base_uri": "https://localhost:8080/"
    },
    "executionInfo": {
     "elapsed": 6,
     "status": "ok",
     "timestamp": 1714905233416,
     "user": {
      "displayName": "CHERN HONG KOH",
      "userId": "10658439026159517048"
     },
     "user_tz": -480
    },
    "id": "CQFXkX2HuDfC",
    "outputId": "9df2703e-aa5f-4ca8-fdff-a345e3d1c2e3"
   },
   "outputs": [],
   "source": [
    "fivestar_restaurant=popular_restaurant.loc[(popular_restaurant['Score'] == 5.0)]['Address'].value_counts()\n",
    "fivestar_restaurant"
   ]
  },
  {
   "cell_type": "code",
   "execution_count": null,
   "metadata": {
    "colab": {
     "base_uri": "https://localhost:8080/",
     "height": 1000
    },
    "executionInfo": {
     "elapsed": 1352,
     "status": "ok",
     "timestamp": 1714905234764,
     "user": {
      "displayName": "CHERN HONG KOH",
      "userId": "10658439026159517048"
     },
     "user_tz": -480
    },
    "id": "xjFAKsSnuDfC",
    "outputId": "a17092cd-0dd4-4e54-d05f-9efd19913fc7"
   },
   "outputs": [],
   "source": [
    "map = folium.Map(location=[37.09024,-95.712891], tiles=\"OpenStreetMap\", zoom_start=4.2)\n",
    "\n",
    "for i in range(0,len(fivestar_restaurant)):\n",
    "   folium.Marker(\n",
    "      location=[popular_restaurant.iloc[i]['Latitude'], popular_restaurant.iloc[i]['Longitude']],\n",
    "      popup=popular_restaurant.iloc[i]['Address'],\n",
    "       icon=folium.Icon(color=\"red\", icon=\"glyphicon-cutlery\"),\n",
    "   ).add_to(map)\n",
    "\n",
    "map"
   ]
  },
  {
   "cell_type": "markdown",
   "metadata": {
    "id": "Ms6-_YhSuDfC"
   },
   "source": [
    "## 4.11 3D Scatter Plot\n",
    "#### Represent the relationship between the position, ratings, and score of restaurants"
   ]
  },
  {
   "cell_type": "code",
   "execution_count": null,
   "metadata": {
    "colab": {
     "base_uri": "https://localhost:8080/",
     "height": 675
    },
    "executionInfo": {
     "elapsed": 1283,
     "status": "ok",
     "timestamp": 1714905236044,
     "user": {
      "displayName": "CHERN HONG KOH",
      "userId": "10658439026159517048"
     },
     "user_tz": -480
    },
    "id": "6NFyKsatuDfC",
    "outputId": "dc592d10-7a5a-4ef6-cbb1-f122d60488be"
   },
   "outputs": [],
   "source": [
    "fig = plt.figure(figsize=(10, 8))\n",
    "ax = fig.add_subplot(111, projection='3d')\n",
    "\n",
    "x = new_restaurant['Position']\n",
    "y = new_restaurant['Ratings']\n",
    "z = new_restaurant['Score']\n",
    "\n",
    "ax.scatter(x, y, z, c='b', marker='o')\n",
    "\n",
    "ax.set_xlabel('Position')\n",
    "ax.set_ylabel('Ratings')\n",
    "ax.set_zlabel('Score')\n",
    "ax.set_title('3D Scatter Plot of Position, Ratings, and Score')\n",
    "\n",
    "plt.show()"
   ]
  },
  {
   "cell_type": "markdown",
   "metadata": {
    "id": "Jn7cLFdnuDfD"
   },
   "source": [
    "## 4.12 Scatter Polar Plot\n",
    "#### Represent the relationship between the price and categories of menu items"
   ]
  },
  {
   "cell_type": "code",
   "execution_count": null,
   "metadata": {
    "colab": {
     "base_uri": "https://localhost:8080/",
     "height": 542,
     "output_embedded_package_id": "1xs9m98hZtl-UUJq8A4Vlzw8CdvnIKoJY"
    },
    "executionInfo": {
     "elapsed": 14944,
     "status": "ok",
     "timestamp": 1714905250985,
     "user": {
      "displayName": "CHERN HONG KOH",
      "userId": "10658439026159517048"
     },
     "user_tz": -480
    },
    "id": "_4sC2GCjuDfD",
    "outputId": "1b8bcb91-bac2-4f43-e155-795b125cc6e0",
    "scrolled": true
   },
   "outputs": [],
   "source": [
    "top_categories = new_menu['Category'].value_counts().nlargest(10).index\n",
    "filtered_menu = new_menu[(new_menu['Category'].isin(top_categories)) & (new_menu['Price'] <= 500)]\n",
    "\n",
    "fig = px.scatter_polar(filtered_menu, r='Price', theta='Category', color='Price',\n",
    "                       template='plotly_dark', title='Scatter Polar Plot of Price vs Top 10 Category')\n",
    "\n",
    "fig.show()"
   ]
  },
  {
   "cell_type": "markdown",
   "metadata": {
    "id": "LmFYMLHJuDfD"
   },
   "source": [
    "# 5.0 Data Modelling"
   ]
  },
  {
   "cell_type": "markdown",
   "metadata": {
    "id": "GZkTU6FpuDfD"
   },
   "source": [
    "## 5.1 Affinity Propagation"
   ]
  },
  {
   "cell_type": "markdown",
   "metadata": {
    "id": "QtLzjDKkcv4G"
   },
   "source": [
    "#### Affinity Propagation(AP) is a clustering algorithm that automatically ascertains the number of clusters in a dataset in contrast to conventional clustering methods, which necessitate predefining the number of clusters. It starts by choosing a subset of representative examples, or exemplars, and iteratively improves them by exchanging real-valued messages between data points according to similarity metrics."
   ]
  },
  {
   "cell_type": "code",
   "execution_count": null,
   "metadata": {
    "executionInfo": {
     "elapsed": 7,
     "status": "ok",
     "timestamp": 1714905250985,
     "user": {
      "displayName": "CHERN HONG KOH",
      "userId": "10658439026159517048"
     },
     "user_tz": -480
    },
    "id": "eUxCtrE_uDfD"
   },
   "outputs": [],
   "source": [
    "from sklearn.decomposition import PCA\n",
    "from sklearn.preprocessing import StandardScaler\n",
    "from sklearn.metrics import silhouette_score\n",
    "\n",
    "features_clustering = new_restaurant[['Position', 'Score', 'Ratings', 'Latitude', 'Longitude']]\n",
    "position_clustering = new_restaurant[['Position', 'Score']]\n",
    "quality_clustering = new_restaurant[['Score', 'Ratings']]\n",
    "\n",
    "scaler = StandardScaler()\n",
    "features_standardized = scaler.fit_transform(features_clustering)\n",
    "position_standardized = scaler.fit_transform(position_clustering)\n",
    "quality_standardized = scaler.fit_transform(quality_clustering)"
   ]
  },
  {
   "cell_type": "code",
   "execution_count": null,
   "metadata": {},
   "outputs": [],
   "source": [
    "correlation_matrix = features_clustering.corr()\n",
    "\n",
    "plt.figure(figsize=(10, 8))\n",
    "sns.heatmap(correlation_matrix, annot=True, cmap='coolwarm', fmt=\".2f\", linewidths=0.5)\n",
    "plt.title('Correlation Matrix')\n",
    "plt.show()"
   ]
  },
  {
   "cell_type": "code",
   "execution_count": null,
   "metadata": {},
   "outputs": [],
   "source": [
    "from sklearn import metrics\n",
    "from sklearn.cluster import AffinityPropagation\n",
    "\n",
    "split_size = 3000\n",
    "num_records = features_standardized.shape[0]\n",
    "num_splits = int(np.ceil(num_records / split_size))\n",
    "\n",
    "best_silhouette_scores = []\n",
    "best_cluster_labels = []\n",
    "\n",
    "for i in range(num_splits):\n",
    "    start_idx = i * split_size\n",
    "    end_idx = min((i + 1) * split_size, num_records)\n",
    "    split_data = features_standardized[start_idx:end_idx]\n",
    "\n",
    "    affinity_propagation = AffinityPropagation()\n",
    "    cluster_labels = affinity_propagation.fit_predict(split_data)\n",
    "\n",
    "    silhouette_avg = silhouette_score(split_data, cluster_labels)\n",
    "\n",
    "    best_silhouette_scores.append((i, silhouette_avg))\n",
    "    best_cluster_labels.append(cluster_labels)\n",
    "\n",
    "best_silhouette_scores.sort(key=lambda x: x[1], reverse=True)\n",
    "\n",
    "print(\"Top 10 highest silhouette scores:\")\n",
    "for i, (split_idx, silhouette_score) in enumerate(best_silhouette_scores[:10]):\n",
    "    print(f\"Split Index: {split_idx}, Silhouette Score: {silhouette_score}\")\n",
    "\n",
    "    cluster_labels = best_cluster_labels[split_idx]"
   ]
  },
  {
   "cell_type": "code",
   "execution_count": null,
   "metadata": {},
   "outputs": [],
   "source": [
    "def extract_cluster_data(cluster_labels, original_data):\n",
    "    cluster_data = {}\n",
    "    for label in np.unique(cluster_labels):\n",
    "        indices = np.where(cluster_labels == label)[0]\n",
    "        cluster_data[label] = original_data.iloc[indices]\n",
    "    return cluster_data\n",
    "\n",
    "best_split_idx, _ = best_silhouette_scores[0]\n",
    "cluster_labels = best_cluster_labels[best_split_idx]\n",
    "cluster_data = extract_cluster_data(cluster_labels, new_restaurant)\n",
    "\n",
    "print(f\"Number of Clusters: {len(cluster_data)}\")\n",
    "for label, data in cluster_data.items():\n",
    "    print(f\"Cluster {label}:\")\n",
    "    print(data[['Position', 'Score', 'Ratings', 'Longitude', 'Latitude']])\n",
    "    print()"
   ]
  },
  {
   "cell_type": "code",
   "execution_count": null,
   "metadata": {},
   "outputs": [],
   "source": [
    "def extract_cluster_means(cluster_labels, original_data, features):\n",
    "    cluster_means = {}\n",
    "    for label in np.unique(cluster_labels):\n",
    "        indices = np.where(cluster_labels == label)[0]\n",
    "        cluster_data = original_data.iloc[indices]\n",
    "        cluster_means[label] = cluster_data[features].mean()\n",
    "    return cluster_means\n",
    "\n",
    "features_of_interest = ['Position', 'Score', 'Ratings', 'Longitude', 'Latitude']\n",
    "\n",
    "cluster_means = extract_cluster_means(cluster_labels, new_restaurant, features_of_interest)\n",
    "\n",
    "print(f\"Number of Clusters: {len(cluster_means)}\")\n",
    "for label, means in cluster_means.items():\n",
    "    print(f\"Cluster {label} Mean:\")\n",
    "    print(means)\n",
    "    print()"
   ]
  },
  {
   "cell_type": "code",
   "execution_count": null,
   "metadata": {},
   "outputs": [],
   "source": [
    "from scipy.spatial.distance import euclidean\n",
    "\n",
    "def find_most_matching_restaurant(cluster_means, restaurants_data):\n",
    "    most_matching_restaurants = {}\n",
    "    for cluster_label, cluster_mean in cluster_means.items():\n",
    "        min_distance = float('inf')\n",
    "        most_matching_restaurant = None\n",
    "        for idx, row in restaurants_data.iterrows():\n",
    "            restaurant_mean = row[features_of_interest]\n",
    "            distance = euclidean(cluster_mean, restaurant_mean)\n",
    "            if distance < min_distance:\n",
    "                min_distance = distance\n",
    "                most_matching_restaurant = row['Name']\n",
    "        most_matching_restaurants[cluster_label] = most_matching_restaurant\n",
    "    return most_matching_restaurants\n",
    "\n",
    "most_matching_restaurants = find_most_matching_restaurant(cluster_means, new_restaurant)\n",
    "for cluster_label, restaurant_name in most_matching_restaurants.items():\n",
    "    print(f\"Cluster {cluster_label} Most Matching Restaurant: {restaurant_name}\")"
   ]
  },
  {
   "cell_type": "markdown",
   "metadata": {
    "id": "aUvtYmj6uDfD"
   },
   "source": [
    "## Position and Quality Clustering"
   ]
  },
  {
   "cell_type": "code",
   "execution_count": null,
   "metadata": {
    "executionInfo": {
     "elapsed": 6,
     "status": "ok",
     "timestamp": 1714905250985,
     "user": {
      "displayName": "CHERN HONG KOH",
      "userId": "10658439026159517048"
     },
     "user_tz": -480
    },
    "id": "myZ1h0hGuDfD"
   },
   "outputs": [],
   "source": [
    "scores = position_clustering['Score'].values\n",
    "sorted_indices = np.argsort(-scores)\n",
    "position_standardized_sorted = position_standardized[sorted_indices]"
   ]
  },
  {
   "cell_type": "code",
   "execution_count": null,
   "metadata": {
    "colab": {
     "base_uri": "https://localhost:8080/",
     "height": 545
    },
    "executionInfo": {
     "elapsed": 6,
     "status": "ok",
     "timestamp": 1714905250985,
     "user": {
      "displayName": "CHERN HONG KOH",
      "userId": "10658439026159517048"
     },
     "user_tz": -480
    },
    "id": "QFE4SB1muDfE",
    "outputId": "602ebc02-6049-47b8-a821-0eb5dab69d05"
   },
   "outputs": [],
   "source": [
    "correlation_matrix = position_clustering.corr()\n",
    "\n",
    "plt.figure(figsize=(8, 6))\n",
    "sns.heatmap(correlation_matrix, annot=True, cmap='coolwarm', fmt=\".2f\", square=True, cbar=True, linewidths=0.5)\n",
    "plt.title('Correlation Matrix')\n",
    "\n",
    "plt.show()"
   ]
  },
  {
   "cell_type": "code",
   "execution_count": null,
   "metadata": {
    "colab": {
     "base_uri": "https://localhost:8080/"
    },
    "executionInfo": {
     "elapsed": 211775,
     "status": "ok",
     "timestamp": 1714906709420,
     "user": {
      "displayName": "CHERN HONG KOH",
      "userId": "10658439026159517048"
     },
     "user_tz": -480
    },
    "id": "keiNAJX5uDfE",
    "outputId": "4c99860e-1ac8-437d-e11e-ca2f0cf9eb85"
   },
   "outputs": [],
   "source": [
    "from sklearn import metrics\n",
    "from sklearn.cluster import AffinityPropagation\n",
    "\n",
    "split_size = 1000\n",
    "num_records = position_standardized_sorted.shape[0]\n",
    "num_splits = int(np.ceil(num_records / split_size))\n",
    "\n",
    "best_silhouette_score = -1\n",
    "best_split_index = -1\n",
    "\n",
    "for i in range(num_splits):\n",
    "    start_idx = i * split_size\n",
    "    end_idx = min((i + 1) * split_size, num_records)\n",
    "    split_data = position_standardized_sorted[start_idx:end_idx]\n",
    "    affinity_propagation = AffinityPropagation()\n",
    "    cluster_labels = affinity_propagation.fit_predict(split_data)\n",
    "\n",
    "    silhouette_avg = silhouette_score(split_data, cluster_labels)\n",
    "    if silhouette_avg > best_silhouette_score:\n",
    "        best_silhouette_score = silhouette_avg\n",
    "        best_split_index = i\n",
    "\n",
    "print(f\"Best Split Index: {best_split_index}\")\n",
    "print(f\"Best Silhouette Score: {best_silhouette_score}\")\n",
    "\n",
    "start_idx = best_split_index * split_size\n",
    "end_idx = min((best_split_index + 1) * split_size, num_records)\n",
    "print(f\"Best Split Range: {start_idx} - {end_idx}\")"
   ]
  },
  {
   "cell_type": "code",
   "execution_count": null,
   "metadata": {
    "executionInfo": {
     "elapsed": 22,
     "status": "ok",
     "timestamp": 1714906709420,
     "user": {
      "displayName": "CHERN HONG KOH",
      "userId": "10658439026159517048"
     },
     "user_tz": -480
    },
    "id": "FU5J72_NuDfF"
   },
   "outputs": [],
   "source": [
    "start_idx = best_split_index * split_size\n",
    "end_idx = min((best_split_index + 1) * split_size, position_standardized_sorted.shape[0])\n",
    "best_split_data = position_standardized_sorted[start_idx:end_idx]\n",
    "\n",
    "affinity_propagation = AffinityPropagation()\n",
    "best_cluster_labels = affinity_propagation.fit_predict(best_split_data)\n",
    "\n",
    "pca = PCA(n_components=2)\n",
    "best_split_pca = pca.fit_transform(best_split_data)"
   ]
  },
  {
   "cell_type": "code",
   "execution_count": null,
   "metadata": {
    "executionInfo": {
     "elapsed": 22,
     "status": "ok",
     "timestamp": 1714906709421,
     "user": {
      "displayName": "CHERN HONG KOH",
      "userId": "10658439026159517048"
     },
     "user_tz": -480
    },
    "id": "NuSPLXobuDfF"
   },
   "outputs": [],
   "source": [
    "Preference = [-50, -40, -30,-20, -10]\n",
    "silhouette_scores = []\n",
    "for preference in Preference:\n",
    "    model = AffinityPropagation(preference=preference, random_state=42)\n",
    "    model.fit(best_split_data)\n",
    "\n",
    "    silhouette_scores.append(metrics.silhouette_score(best_split_data , model.labels_))\n",
    "\n",
    "data = {\n",
    "    'Preference': Preference,\n",
    "    'Silhouette Score': silhouette_scores\n",
    "}\n",
    "df = pd.DataFrame(data)\n",
    "\n",
    "df.to_csv('/content/drive/MyDrive/ML_Assignment/AP_Silhouette_Scores_New.csv', index=False)"
   ]
  },
  {
   "cell_type": "code",
   "execution_count": null,
   "metadata": {
    "colab": {
     "base_uri": "https://localhost:8080/",
     "height": 472
    },
    "executionInfo": {
     "elapsed": 22,
     "status": "ok",
     "timestamp": 1714906709421,
     "user": {
      "displayName": "CHERN HONG KOH",
      "userId": "10658439026159517048"
     },
     "user_tz": -480
    },
    "id": "ydzb97miQBF8",
    "outputId": "b1425732-3b7e-4f93-99a8-4dddd66a2011"
   },
   "outputs": [],
   "source": [
    "plt.figure()\n",
    "plt.plot(Preference, silhouette_scores, marker='o')\n",
    "plt.grid(True)\n",
    "plt.xlabel('Preference Value')\n",
    "plt.ylabel('Silhouette Score')\n",
    "plt.title('Silhouette Scores for Different Preference Values (Size=1000)')\n",
    "plt.show()"
   ]
  },
  {
   "cell_type": "markdown",
   "metadata": {
    "id": "GkWgQBIFuDfF"
   },
   "source": [
    "## 5.2 Fuzzy C-Means"
   ]
  },
  {
   "cell_type": "markdown",
   "metadata": {
    "id": "pqrq9rxUdIwC"
   },
   "source": [
    "#### Fuzzy C-Means(FCM) is an unsupervised machine-learning algorithm that assigns membership degrees between 0 and 1. This allows data points to have varying degrees of association across multiple clusters, unlike traditional methods such as k-means or hierarchical clustering. Fuzzy clustering theory is better suited to the inherent nature of phenomena and presents a more unbiased portrayal of reality."
   ]
  },
  {
   "cell_type": "code",
   "execution_count": null,
   "metadata": {
    "executionInfo": {
     "elapsed": 21,
     "status": "ok",
     "timestamp": 1714906709421,
     "user": {
      "displayName": "CHERN HONG KOH",
      "userId": "10658439026159517048"
     },
     "user_tz": -480
    },
    "id": "tVIuUeFuuDfF"
   },
   "outputs": [],
   "source": [
    "from sklearn.decomposition import PCA\n",
    "from sklearn.preprocessing import StandardScaler\n",
    "from sklearn.metrics import silhouette_score\n",
    "\n",
    "features_clustering = new_restaurant[['Position', 'Score', 'Ratings', 'Latitude', 'Longitude']]\n",
    "position_clustering = new_restaurant[['Position', 'Score']]\n",
    "quality_clustering = new_restaurant[['Score', 'Ratings']]\n",
    "\n",
    "scaler = StandardScaler()\n",
    "features_standardized = scaler.fit_transform(features_clustering)\n",
    "position_standardized = scaler.fit_transform(position_clustering)\n",
    "quality_standardized = scaler.fit_transform(quality_clustering)"
   ]
  },
  {
   "cell_type": "code",
   "execution_count": null,
   "metadata": {},
   "outputs": [],
   "source": [
    "import skfuzzy as fuzz\n",
    "\n",
    "data = features_standardized\n",
    "data_transposed = data.T\n",
    "\n",
    "cluster_range = range(2, 11)\n",
    "fpc_values = []\n",
    "silhouette_scores = []\n",
    "cluster_memberships = []\n",
    "\n",
    "for x in cluster_range:\n",
    "    cntr, u, _, _, _, _, fpc = fuzz.cluster.cmeans(\n",
    "        data_transposed, x, m=2, error=0.005, maxiter=1000, init=None\n",
    "    )\n",
    "    fpc_values.append(fpc)\n",
    "    cluster_membership = np.argmax(u, axis=0)\n",
    "    cluster_memberships.append(cluster_membership)\n",
    "    \n",
    "    silhouette_avg = silhouette_score(data, cluster_membership)\n",
    "    silhouette_scores.append(silhouette_avg)\n",
    "\n",
    "print(\"Number of Clusters | Silhouette Score | FPC\")\n",
    "for num_clusters in cluster_range:\n",
    "    print(f\"{num_clusters:^19} | {silhouette_scores[num_clusters - 2]:^16.4f} | {fpc_values[num_clusters - 2]:^3.4f}\")"
   ]
  },
  {
   "cell_type": "code",
   "execution_count": null,
   "metadata": {},
   "outputs": [],
   "source": [
    "def extract_cluster_means(cluster_labels, original_data, features):\n",
    "    cluster_means = {}\n",
    "    for label in np.unique(cluster_labels):\n",
    "        indices = np.where(cluster_labels == label)[0]\n",
    "        cluster_data = original_data.iloc[indices]\n",
    "        cluster_mean = cluster_data[features].mean(axis=0)\n",
    "        cluster_means[label] = cluster_mean\n",
    "    return cluster_means\n",
    "\n",
    "features_of_interest = ['Position', 'Score', 'Ratings', 'Longitude', 'Latitude']\n",
    "\n",
    "best_split_idx = np.argmax(silhouette_scores)\n",
    "cluster_labels = cluster_memberships[best_split_idx]\n",
    "cluster_means = extract_cluster_means(cluster_labels, new_restaurant, features_of_interest)\n",
    "\n",
    "print(f\"Number of Clusters: {len(cluster_means)}\")\n",
    "\n",
    "for label, means in cluster_means.items():\n",
    "    print(f\"Cluster {label} Mean:\")\n",
    "    print(means)\n",
    "    print()"
   ]
  },
  {
   "cell_type": "code",
   "execution_count": null,
   "metadata": {},
   "outputs": [],
   "source": [
    "from scipy.spatial.distance import euclidean\n",
    "\n",
    "def find_most_matching_restaurant(cluster_means, restaurants_data, features_of_interest):\n",
    "    most_matching_restaurants = {}\n",
    "    for idx, cluster_mean in enumerate(cluster_means.values()):\n",
    "        min_distance = float('inf')\n",
    "        most_matching_restaurant = None\n",
    "        for _, row in restaurants_data.iterrows():\n",
    "            restaurant_mean = row[features_of_interest]\n",
    "            distance = euclidean(cluster_mean, restaurant_mean)\n",
    "            if distance < min_distance:\n",
    "                min_distance = distance\n",
    "                most_matching_restaurant = row['Name']\n",
    "        most_matching_restaurants[idx] = most_matching_restaurant\n",
    "    return most_matching_restaurants\n",
    "\n",
    "cluster_means = extract_cluster_means(cluster_labels, new_restaurant, features_of_interest)\n",
    "\n",
    "most_matching_restaurants = find_most_matching_restaurant(cluster_means, new_restaurant, features_of_interest)\n",
    "\n",
    "for cluster_label, restaurant_name in most_matching_restaurants.items():\n",
    "    print(f\"Cluster {cluster_label + 1} Most Matching Restaurant: {restaurant_name}\")"
   ]
  },
  {
   "cell_type": "code",
   "execution_count": null,
   "metadata": {
    "colab": {
     "base_uri": "https://localhost:8080/",
     "height": 472
    },
    "executionInfo": {
     "elapsed": 20,
     "status": "ok",
     "timestamp": 1714906709421,
     "user": {
      "displayName": "CHERN HONG KOH",
      "userId": "10658439026159517048"
     },
     "user_tz": -480
    },
    "id": "lwnWxFjvuDfF",
    "outputId": "23dc3ccd-fe31-4bb5-dd5d-cad622667d5f"
   },
   "outputs": [],
   "source": [
    "plt.figure()\n",
    "plt.plot(cluster_range, fpc_values, marker='o')\n",
    "plt.xlabel('Number of clusters')\n",
    "plt.ylabel('Fuzzy Partition Coefficient (FPC)')\n",
    "plt.title('FPC vs Number of Clusters')\n",
    "plt.show()"
   ]
  },
  {
   "cell_type": "code",
   "execution_count": null,
   "metadata": {},
   "outputs": [],
   "source": [
    "plt.figure(figsize=(10, 6))\n",
    "plt.plot(cluster_range, silhouette_scores, marker='o', linestyle='-')\n",
    "plt.title('Silhouette Score vs. Number of Clusters')\n",
    "plt.xlabel('Number of Clusters')\n",
    "plt.ylabel('Silhouette Score')\n",
    "plt.grid(True)\n",
    "plt.show()"
   ]
  },
  {
   "cell_type": "code",
   "execution_count": null,
   "metadata": {
    "executionInfo": {
     "elapsed": 20,
     "status": "ok",
     "timestamp": 1714906709422,
     "user": {
      "displayName": "CHERN HONG KOH",
      "userId": "10658439026159517048"
     },
     "user_tz": -480
    },
    "id": "4SXuAseuuDfF"
   },
   "outputs": [],
   "source": [
    "optimal_num_clusters = cluster_range[np.argmax(silhouette_scores)]\n",
    "\n",
    "cntr, u, _, _, _, _, _ = fuzz.cluster.cmeans(\n",
    "    data_transposed, optimal_num_clusters, m=2, error=0.005, maxiter=1000\n",
    ")"
   ]
  },
  {
   "cell_type": "code",
   "execution_count": null,
   "metadata": {},
   "outputs": [],
   "source": [
    "results_df = pd.DataFrame({\n",
    "    'Number of Clusters': cluster_range,\n",
    "    'Silhouette Score': silhouette_scores,\n",
    "    'FPC': fpc_values\n",
    "})\n",
    "\n",
    "results_df.to_csv('FPC_values.csv.csv', index=False)"
   ]
  },
  {
   "cell_type": "code",
   "execution_count": null,
   "metadata": {},
   "outputs": [],
   "source": [
    "data_df = pd.DataFrame(data_transposed.T, columns=['Feature 1', 'Feature 2','Feature 3','Feature 4', 'Feature 5'])\n",
    "membership_df = pd.DataFrame(cluster_membership, columns=['Cluster Membership'])\n",
    "\n",
    "data_df['Cluster Membership'] = membership_df['Cluster Membership']\n",
    "data_df.to_csv('FCP_Plot.csv', index=False)\n",
    "\n",
    "cntr_df = pd.DataFrame(cntr, columns=['Feature 1', 'Feature 2','Feature 3','Feature 4', 'Feature 5'])\n",
    "cntr_df.to_csv('Cluster_Centers.csv', index=False)"
   ]
  },
  {
   "cell_type": "code",
   "execution_count": null,
   "metadata": {
    "colab": {
     "base_uri": "https://localhost:8080/",
     "height": 564
    },
    "executionInfo": {
     "elapsed": 20,
     "status": "ok",
     "timestamp": 1714906709422,
     "user": {
      "displayName": "CHERN HONG KOH",
      "userId": "10658439026159517048"
     },
     "user_tz": -480
    },
    "id": "orp_q2hjuDfG",
    "outputId": "b9ee6d05-fd81-4160-b021-5e1d0f64a15c"
   },
   "outputs": [],
   "source": [
    "plt.figure(figsize=(8, 6))\n",
    "plt.scatter(data_transposed[0], data_transposed[1], c=cluster_membership, cmap='viridis', alpha=0.7, edgecolors='k')\n",
    "plt.scatter(cntr[:, 0], cntr[:, 1], c='red', marker='x', s=100, label='Cluster Centers')\n",
    "plt.xlabel('Feature 1')\n",
    "plt.ylabel('Feature 2')\n",
    "plt.title(f'Fuzzy C-Means Clustering with {optimal_num_clusters} Clusters')\n",
    "plt.colorbar(label='Cluster Membership')\n",
    "plt.legend()\n",
    "plt.show()"
   ]
  },
  {
   "cell_type": "markdown",
   "metadata": {
    "id": "nwUKyRdtuDfG"
   },
   "source": [
    "## Position and Quality Clustering"
   ]
  },
  {
   "cell_type": "code",
   "execution_count": null,
   "metadata": {
    "executionInfo": {
     "elapsed": 19534,
     "status": "ok",
     "timestamp": 1714926298245,
     "user": {
      "displayName": "CHERN HONG KOH",
      "userId": "10658439026159517048"
     },
     "user_tz": -480
    },
    "id": "oKI6shrDuDfG"
   },
   "outputs": [],
   "source": [
    "data = position_standardized\n",
    "\n",
    "data_transposed = data.T\n",
    "\n",
    "cluster_range = range(2, 8)\n",
    "fpc_values = []\n",
    "\n",
    "for x in cluster_range:\n",
    "    cntr, u, _, _, _, _, fpc = fuzz.cluster.cmeans(\n",
    "        data_transposed, x, m=2, error=0.005, maxiter=1000, init=None\n",
    "    )\n",
    "\n",
    "    fpc_values.append(fpc)\n",
    "\n",
    "cluster_membership = np.argmax(u, axis=0)"
   ]
  },
  {
   "cell_type": "code",
   "execution_count": null,
   "metadata": {
    "colab": {
     "base_uri": "https://localhost:8080/",
     "height": 472
    },
    "executionInfo": {
     "elapsed": 730,
     "status": "ok",
     "timestamp": 1714926298962,
     "user": {
      "displayName": "CHERN HONG KOH",
      "userId": "10658439026159517048"
     },
     "user_tz": -480
    },
    "id": "ETwNSAYRuDfG",
    "outputId": "6a300e77-8056-43e3-e105-798f70b420eb"
   },
   "outputs": [],
   "source": [
    "plt.figure()\n",
    "plt.plot(cluster_range, fpc_values, marker='o')\n",
    "plt.xlabel('Number of clusters')\n",
    "plt.ylabel('Fuzzy Partition Coefficient (FPC)')\n",
    "plt.title('FPC vs Number of Clusters')\n",
    "plt.show()"
   ]
  },
  {
   "cell_type": "code",
   "execution_count": null,
   "metadata": {
    "executionInfo": {
     "elapsed": 330,
     "status": "ok",
     "timestamp": 1714926299289,
     "user": {
      "displayName": "CHERN HONG KOH",
      "userId": "10658439026159517048"
     },
     "user_tz": -480
    },
    "id": "WyQApC6fuDfG"
   },
   "outputs": [],
   "source": [
    "optimal_num_clusters = cluster_range[np.argmax(fpc_values)]\n",
    "\n",
    "cntr, u, _, _, _, _, _ = fuzz.cluster.cmeans(\n",
    "    data_transposed, optimal_num_clusters, m=2, error=0.005, maxiter=1000\n",
    ")"
   ]
  },
  {
   "cell_type": "code",
   "execution_count": null,
   "metadata": {
    "colab": {
     "base_uri": "https://localhost:8080/",
     "height": 564
    },
    "executionInfo": {
     "elapsed": 3301,
     "status": "ok",
     "timestamp": 1714926302589,
     "user": {
      "displayName": "CHERN HONG KOH",
      "userId": "10658439026159517048"
     },
     "user_tz": -480
    },
    "id": "qKbXZRhLuDfG",
    "outputId": "b4573fba-7d37-4a5e-fb80-bce3f5a2e2a5"
   },
   "outputs": [],
   "source": [
    "plt.figure(figsize=(8, 6))\n",
    "plt.scatter(data_transposed[0], data_transposed[1], c=cluster_membership, marker='o', cmap='viridis', alpha=0.7, edgecolors='k')\n",
    "plt.scatter(cntr[:, 0], cntr[:, 1], c='red', marker='x', s=100, label='Cluster Centers')\n",
    "plt.xlabel('Feature 1')\n",
    "plt.ylabel('Feature 2')\n",
    "plt.title(f'Fuzzy C-Means Clustering with {optimal_num_clusters} Clusters')\n",
    "plt.colorbar(label='Cluster Membership')\n",
    "plt.legend()\n",
    "plt.show()"
   ]
  },
  {
   "cell_type": "markdown",
   "metadata": {
    "id": "peMlc0U9uDfH"
   },
   "source": [
    "## Quality and Probability Clustering"
   ]
  },
  {
   "cell_type": "code",
   "execution_count": null,
   "metadata": {
    "executionInfo": {
     "elapsed": 14664,
     "status": "ok",
     "timestamp": 1714906744554,
     "user": {
      "displayName": "CHERN HONG KOH",
      "userId": "10658439026159517048"
     },
     "user_tz": -480
    },
    "id": "hVDguHTXuDfH"
   },
   "outputs": [],
   "source": [
    "data = quality_standardized\n",
    "data_transposed = data.T\n",
    "\n",
    "cluster_range = range(2, 8)\n",
    "fpc_values = []\n",
    "\n",
    "for x in cluster_range:\n",
    "    cntr, u, _, _, _, _, fpc = fuzz.cluster.cmeans(\n",
    "        data_transposed, x, m=2, error=0.005, maxiter=1000, init=None\n",
    "    )\n",
    "\n",
    "    fpc_values.append(fpc)\n",
    "\n",
    "cluster_membership = np.argmax(u, axis=0)"
   ]
  },
  {
   "cell_type": "code",
   "execution_count": null,
   "metadata": {
    "colab": {
     "base_uri": "https://localhost:8080/",
     "height": 472
    },
    "executionInfo": {
     "elapsed": 15,
     "status": "ok",
     "timestamp": 1714906744555,
     "user": {
      "displayName": "CHERN HONG KOH",
      "userId": "10658439026159517048"
     },
     "user_tz": -480
    },
    "id": "R4xS1KG7uDfH",
    "outputId": "6a298e08-a4f8-4702-d7cf-4e171c12609f"
   },
   "outputs": [],
   "source": [
    "plt.figure()\n",
    "plt.plot(cluster_range, fpc_values, marker='o')\n",
    "plt.xlabel('Number of clusters')\n",
    "plt.ylabel('Fuzzy Partition Coefficient (FPC)')\n",
    "plt.title('FPC vs Number of Clusters')\n",
    "plt.show()"
   ]
  },
  {
   "cell_type": "code",
   "execution_count": null,
   "metadata": {
    "executionInfo": {
     "elapsed": 1072,
     "status": "ok",
     "timestamp": 1714906745613,
     "user": {
      "displayName": "CHERN HONG KOH",
      "userId": "10658439026159517048"
     },
     "user_tz": -480
    },
    "id": "lhhLfs4juDfH"
   },
   "outputs": [],
   "source": [
    "optimal_num_clusters = cluster_range[np.argmax(fpc_values)]\n",
    "\n",
    "cntr, u, _, _, _, _, _ = fuzz.cluster.cmeans(\n",
    "    data_transposed, optimal_num_clusters, m=2, error=0.005, maxiter=1000\n",
    ")"
   ]
  },
  {
   "cell_type": "code",
   "execution_count": null,
   "metadata": {
    "colab": {
     "base_uri": "https://localhost:8080/",
     "height": 564
    },
    "executionInfo": {
     "elapsed": 2563,
     "status": "ok",
     "timestamp": 1714906748173,
     "user": {
      "displayName": "CHERN HONG KOH",
      "userId": "10658439026159517048"
     },
     "user_tz": -480
    },
    "id": "ax2ob4rWuDfH",
    "outputId": "3cb0be21-92e4-4ae1-9af4-b6d638b95d71"
   },
   "outputs": [],
   "source": [
    "plt.figure(figsize=(8, 6))\n",
    "plt.scatter(data_transposed[0], data_transposed[1], c=cluster_membership, cmap='viridis', alpha=0.7, edgecolors='k')\n",
    "plt.scatter(cntr[:, 0], cntr[:, 1], c='red', marker='x', s=100, label='Cluster Centers')\n",
    "plt.xlabel('Feature 1')\n",
    "plt.ylabel('Feature 2')\n",
    "plt.title(f'Fuzzy C-Means Clustering with {optimal_num_clusters} Clusters')\n",
    "plt.colorbar(label='Cluster Membership')\n",
    "plt.legend()\n",
    "plt.show()"
   ]
  },
  {
   "cell_type": "markdown",
   "metadata": {
    "id": "_cVmjFMHuDfH"
   },
   "source": [
    "## 5.3 Spectral Clustering"
   ]
  },
  {
   "cell_type": "markdown",
   "metadata": {
    "id": "g8W3ix5hbcIS"
   },
   "source": [
    "#### Spectral clustering is a widespread class of clustering algorithms, designed specifically for graph data models. It uses the eigenvectors of an affinity matrix to identify distinct clusters within the data. This algorithm effectively partitions N data points in an I-dimensional space into several clusters based on their similarity. Points within the same cluster exhibit a high degree of similarity, while points in different clusters are dissimilar."
   ]
  },
  {
   "cell_type": "code",
   "execution_count": null,
   "metadata": {},
   "outputs": [],
   "source": [
    "from sklearn.decomposition import PCA\n",
    "from sklearn.preprocessing import StandardScaler\n",
    "from sklearn.metrics import silhouette_score\n",
    "\n",
    "features_clustering = new_restaurant[['Position', 'Score', 'Ratings', 'Latitude', 'Longitude']]\n",
    "position_clustering = new_restaurant[['Position', 'Score']]\n",
    "quality_clustering = new_restaurant[['Score', 'Ratings']]\n",
    "\n",
    "scaler = StandardScaler()\n",
    "features_standardized = scaler.fit_transform(features_clustering)\n",
    "position_standardized = scaler.fit_transform(position_clustering)\n",
    "quality_standardized = scaler.fit_transform(quality_clustering)"
   ]
  },
  {
   "cell_type": "code",
   "execution_count": null,
   "metadata": {
    "colab": {
     "base_uri": "https://localhost:8080/"
    },
    "executionInfo": {
     "elapsed": 5116671,
     "status": "ok",
     "timestamp": 1714918140998,
     "user": {
      "displayName": "CHERN HONG KOH",
      "userId": "10658439026159517048"
     },
     "user_tz": -480
    },
    "id": "weo_9Qq2uDfH",
    "outputId": "290ecee1-f008-45c7-d4cc-16ab88afce70"
   },
   "outputs": [],
   "source": [
    "from sklearn.cluster import SpectralClustering\n",
    "\n",
    "pca = PCA(n_components=2)\n",
    "features_pca = pca.fit_transform(features_standardized)\n",
    "\n",
    "n_clusters_range = range(2, 11)\n",
    "\n",
    "inertia_values = []\n",
    "silhouette_scores = []\n",
    "best_silhouette_score = -1\n",
    "best_n_clusters = None\n",
    "\n",
    "for x in n_clusters_range:\n",
    "    spectral_clustering = SpectralClustering(n_clusters=x, affinity='nearest_neighbors')\n",
    "    cluster_labels = spectral_clustering.fit_predict(features_pca)\n",
    "\n",
    "    silhouette_avg = silhouette_score(features_pca, cluster_labels)\n",
    "    silhouette_scores.append(silhouette_avg)\n",
    "\n",
    "    if silhouette_avg > best_silhouette_score:\n",
    "        best_silhouette_score = silhouette_avg\n",
    "        best_n_clusters = x\n",
    "            \n",
    "    inertia = 0\n",
    "    for i in range(x):\n",
    "        cluster_points = features_pca[cluster_labels == i]\n",
    "        if cluster_points.size > 0:\n",
    "            cluster_center = np.mean(cluster_points, axis=0)\n",
    "            inertia += np.sum((cluster_points - cluster_center) ** 2)\n",
    "\n",
    "    inertia_values.append(inertia)\n",
    "\n",
    "    print(f'Number of clusters: {x}')\n",
    "    unique, counts = np.unique(cluster_labels, return_counts=True)\n",
    "    print(dict(zip(unique, counts)))"
   ]
  },
  {
   "cell_type": "code",
   "execution_count": null,
   "metadata": {},
   "outputs": [],
   "source": [
    "data = {\n",
    "    'Number of Clusters': list(n_clusters_range),\n",
    "    'Inertia': inertia_values\n",
    "}\n",
    "df = pd.DataFrame(data)\n",
    "\n",
    "df.to_csv('Spectral_Clustering.csv', index=False)"
   ]
  },
  {
   "cell_type": "code",
   "execution_count": null,
   "metadata": {
    "colab": {
     "base_uri": "https://localhost:8080/",
     "height": 564
    },
    "executionInfo": {
     "elapsed": 968,
     "status": "ok",
     "timestamp": 1714918141963,
     "user": {
      "displayName": "CHERN HONG KOH",
      "userId": "10658439026159517048"
     },
     "user_tz": -480
    },
    "id": "uYtrs4dtuDfI",
    "outputId": "f6438f87-3ff2-48ac-c945-0c13d21b2f49"
   },
   "outputs": [],
   "source": [
    "plt.figure(figsize=(10, 6))\n",
    "plt.plot(n_clusters_range, inertia_values, marker='o')\n",
    "plt.xlabel('Number of Clusters')\n",
    "plt.ylabel('Within-cluster Sum of Squares')\n",
    "plt.title('Inertia for Different Number of Clusters')\n",
    "plt.show()"
   ]
  },
  {
   "cell_type": "code",
   "execution_count": null,
   "metadata": {
    "executionInfo": {
     "elapsed": 3927029,
     "status": "ok",
     "timestamp": 1714922068983,
     "user": {
      "displayName": "CHERN HONG KOH",
      "userId": "10658439026159517048"
     },
     "user_tz": -480
    },
    "id": "4-twzNIBuDfI"
   },
   "outputs": [],
   "source": [
    "data = {\n",
    "    'Number of Clusters': list(n_clusters_range),\n",
    "    'Silhouette Score': silhouette_scores\n",
    "}\n",
    "df = pd.DataFrame(data)\n",
    "\n",
    "df.to_csv('SC_Silhouette_Scores.csv', index=False)"
   ]
  },
  {
   "cell_type": "code",
   "execution_count": null,
   "metadata": {
    "colab": {
     "base_uri": "https://localhost:8080/",
     "height": 564
    },
    "executionInfo": {
     "elapsed": 969,
     "status": "ok",
     "timestamp": 1714922069939,
     "user": {
      "displayName": "CHERN HONG KOH",
      "userId": "10658439026159517048"
     },
     "user_tz": -480
    },
    "id": "t29tnBZvuDfI",
    "outputId": "b6c42004-27a2-4e03-e052-38517f839636"
   },
   "outputs": [],
   "source": [
    "plt.figure(figsize=(10, 6))\n",
    "plt.plot(n_clusters_range, silhouette_scores, marker='o')\n",
    "plt.xlabel('Number of Clusters')\n",
    "plt.ylabel('Silhouette Score')\n",
    "plt.title('Silhouette Scores for Different Number of Clusters')\n",
    "plt.show()"
   ]
  },
  {
   "cell_type": "code",
   "execution_count": null,
   "metadata": {
    "colab": {
     "base_uri": "https://localhost:8080/"
    },
    "executionInfo": {
     "elapsed": 3176439,
     "status": "ok",
     "timestamp": 1714925246374,
     "user": {
      "displayName": "CHERN HONG KOH",
      "userId": "10658439026159517048"
     },
     "user_tz": -480
    },
    "id": "cFggqTlVuDfI",
    "outputId": "7fa0c82a-82d7-4606-b367-f98240e51a3f"
   },
   "outputs": [],
   "source": [
    "print(f\"Best Silhouette Score: {best_silhouette_score}\")\n",
    "print(f\"Number of Clusters: {best_n_clusters}\")"
   ]
  },
  {
   "cell_type": "code",
   "execution_count": null,
   "metadata": {},
   "outputs": [],
   "source": [
    "def extract_cluster_means(cluster_labels, original_data, features):\n",
    "    cluster_means = {}\n",
    "    for label in np.unique(cluster_labels):\n",
    "        indices = np.where(cluster_labels == label)[0]\n",
    "        cluster_data = original_data.iloc[indices]\n",
    "        cluster_mean = cluster_data[features].mean(axis=0)\n",
    "        cluster_means[label] = cluster_mean\n",
    "    return cluster_means\n",
    "\n",
    "features_of_interest = ['Position', 'Score', 'Ratings', 'Longitude', 'Latitude']\n",
    "\n",
    "best_split_idx = np.argmax(silhouette_scores)\n",
    "best_n_clusters = n_clusters_range[best_split_idx]\n",
    "spectral_clustering_best = SpectralClustering(n_clusters=best_n_clusters, affinity='nearest_neighbors')\n",
    "best_cluster_labels = spectral_clustering_best.fit_predict(features_pca)\n",
    "cluster_means = extract_cluster_means(best_cluster_labels, new_restaurant, features_of_interest)\n",
    "\n",
    "print(f\"Number of Clusters: {len(cluster_means)}\")\n",
    "\n",
    "for label, means in cluster_means.items():\n",
    "    print(f\"Cluster {label} Mean:\")\n",
    "    print(means)\n",
    "    print()"
   ]
  },
  {
   "cell_type": "code",
   "execution_count": null,
   "metadata": {},
   "outputs": [],
   "source": [
    "from scipy.spatial.distance import euclidean\n",
    "\n",
    "def find_most_matching_restaurant(cluster_means, restaurants_data, features_of_interest):\n",
    "    most_matching_restaurants = {}\n",
    "    for idx, cluster_mean in enumerate(cluster_means.values()):\n",
    "        min_distance = float('inf')\n",
    "        most_matching_restaurant = None\n",
    "        for _, row in restaurants_data.iterrows():\n",
    "            restaurant_mean = row[features_of_interest]\n",
    "            distance = euclidean(cluster_mean, restaurant_mean)\n",
    "            if distance < min_distance:\n",
    "                min_distance = distance\n",
    "                most_matching_restaurant = row['Name']\n",
    "        most_matching_restaurants[idx] = most_matching_restaurant\n",
    "    return most_matching_restaurants\n",
    "\n",
    "cluster_means = extract_cluster_means(best_cluster_labels, new_restaurant, features_of_interest)\n",
    "\n",
    "most_matching_restaurants = find_most_matching_restaurant(cluster_means, new_restaurant, features_of_interest)\n",
    "\n",
    "for cluster_label, restaurant_name in most_matching_restaurants.items():\n",
    "    print(f\"Cluster {cluster_label + 1} Most Matching Restaurant: {restaurant_name}\")"
   ]
  },
  {
   "cell_type": "code",
   "execution_count": null,
   "metadata": {},
   "outputs": [],
   "source": [
    "data_to_save = np.hstack((features_pca, best_cluster_labels.reshape(-1, 1)))\n",
    "df = pd.DataFrame(data_to_save, columns=['PCA1', 'PCA2', 'ClusterLabel'])\n",
    "df.to_csv('Best_Silhouette_Score.csv', index=False)"
   ]
  },
  {
   "cell_type": "code",
   "execution_count": null,
   "metadata": {},
   "outputs": [],
   "source": [
    "plt.figure(figsize=(8, 6))\n",
    "plt.scatter(features_pca[:, 0], features_pca[:, 1], c=best_cluster_labels, cmap='viridis', marker='o', edgecolor='k')\n",
    "plt.title(f'Spectral Clustering with {best_n_clusters} Clusters')\n",
    "plt.xlabel('Principal Component 1')\n",
    "plt.ylabel('Principal Component 2')\n",
    "plt.colorbar(label='Cluster Label')\n",
    "plt.grid(True)\n",
    "plt.show()"
   ]
  },
  {
   "cell_type": "markdown",
   "metadata": {
    "id": "ENeGrE4EuDfJ"
   },
   "source": [
    "## 5.4 Gaussian Mixture Model (GMM)"
   ]
  },
  {
   "cell_type": "markdown",
   "metadata": {
    "id": "ochcY_crbyj2"
   },
   "source": [
    "#### A Gaussian Mixture Model (GMM) is a parametric probability density function (PDF) that represents the overall distribution of data as a weighted sum of multiple Gaussian component densities. These components are defined using the mean vector and covariance matrix of the data, with estimated weights determining their relative importance in modelling the overall distribution. GMMs are used in unsupervised machine learning, which posits that data points are generated from a mixture of a finite number of Gaussian distributions, and each with its own set of unknown parameters."
   ]
  },
  {
   "cell_type": "code",
   "execution_count": null,
   "metadata": {
    "executionInfo": {
     "elapsed": 3,
     "status": "ok",
     "timestamp": 1714925249458,
     "user": {
      "displayName": "CHERN HONG KOH",
      "userId": "10658439026159517048"
     },
     "user_tz": -480
    },
    "id": "-1VHwqQ2uDfJ"
   },
   "outputs": [],
   "source": [
    "from sklearn.decomposition import PCA\n",
    "from sklearn.preprocessing import StandardScaler\n",
    "from sklearn.metrics import silhouette_score\n",
    "\n",
    "features_clustering = new_restaurant[['Position', 'Score', 'Ratings', 'Latitude', 'Longitude']]\n",
    "position_clustering = new_restaurant[['Position', 'Score']]\n",
    "quality_clustering = new_restaurant[['Score', 'Ratings']]\n",
    "\n",
    "scaler = StandardScaler()\n",
    "features_standardized = scaler.fit_transform(features_clustering)\n",
    "position_standardized = scaler.fit_transform(position_clustering)\n",
    "quality_standardized = scaler.fit_transform(quality_clustering)"
   ]
  },
  {
   "cell_type": "code",
   "execution_count": null,
   "metadata": {},
   "outputs": [],
   "source": [
    "from sklearn.mixture import GaussianMixture\n",
    "\n",
    "num_clusters_range = range(2, 11)\n",
    "\n",
    "bic_scores = []\n",
    "silhouette_scores = []\n",
    "\n",
    "for n_clusters in num_clusters_range:\n",
    "    gmm = GaussianMixture(n_components=n_clusters, random_state=10)\n",
    "    gmm.fit(features_standardized)\n",
    "    bic_scores.append(gmm.bic(features_standardized))\n",
    "    cluster_labels = gmm.predict(features_standardized)\n",
    "    silhouette_scores.append(silhouette_score(features_standardized, cluster_labels))\n",
    "\n",
    "print(\"Number of Clusters\\tAIC\\tSilhouette Score\")\n",
    "for n_clusters, bic, silhouette in zip(num_clusters_range, bic_scores, silhouette_scores):\n",
    "    print(f\"{n_clusters}\\t\\t\\t{bic:.2f}\\t{silhouette:.3f}\")"
   ]
  },
  {
   "cell_type": "code",
   "execution_count": null,
   "metadata": {},
   "outputs": [],
   "source": [
    "plt.figure(figsize=(10, 5))\n",
    "plt.plot(num_clusters_range, bic_scores, marker='s', color='red', label='BIC')\n",
    "plt.title('AIC and BIC Values for Different Number of Clusters')\n",
    "plt.xlabel('Number of Clusters')\n",
    "plt.ylabel('Score')\n",
    "plt.xticks(num_clusters_range)\n",
    "plt.legend(loc='best')\n",
    "plt.grid(True)\n",
    "plt.show()"
   ]
  },
  {
   "cell_type": "code",
   "execution_count": null,
   "metadata": {
    "executionInfo": {
     "elapsed": 363976,
     "status": "ok",
     "timestamp": 1714925644873,
     "user": {
      "displayName": "CHERN HONG KOH",
      "userId": "10658439026159517048"
     },
     "user_tz": -480
    },
    "id": "tmlx6nL1uDfJ"
   },
   "outputs": [],
   "source": [
    "data = {\n",
    "    'Number of Clusters': list(num_clusters_range),\n",
    "    'Silhouette Score': silhouette_scores\n",
    "}\n",
    "df = pd.DataFrame(data)\n",
    "\n",
    "df.to_csv('GMM_Score.csv', index=False)"
   ]
  },
  {
   "cell_type": "code",
   "execution_count": null,
   "metadata": {
    "colab": {
     "base_uri": "https://localhost:8080/",
     "height": 564
    },
    "executionInfo": {
     "elapsed": 19,
     "status": "ok",
     "timestamp": 1714925644873,
     "user": {
      "displayName": "CHERN HONG KOH",
      "userId": "10658439026159517048"
     },
     "user_tz": -480
    },
    "id": "kCqGkF9NuDfK",
    "outputId": "f1ab55df-5bcf-47ea-ff7c-cbd64141a3cb"
   },
   "outputs": [],
   "source": [
    "plt.figure(figsize=(10, 6))\n",
    "plt.plot(num_clusters_range, silhouette_scores, marker='o')\n",
    "plt.xlabel('Number of Clusters')\n",
    "plt.ylabel('Silhouette Score')\n",
    "plt.title('Silhouette Score by Number of Clusters')\n",
    "plt.show()"
   ]
  },
  {
   "cell_type": "code",
   "execution_count": null,
   "metadata": {},
   "outputs": [],
   "source": [
    "def extract_cluster_means(cluster_labels, original_data, features):\n",
    "    cluster_means = {}\n",
    "    for label in np.unique(cluster_labels):\n",
    "        indices = np.where(cluster_labels == label)[0]\n",
    "        cluster_data = original_data.iloc[indices]\n",
    "        cluster_mean = cluster_data[features].mean(axis=0)\n",
    "        cluster_means[label] = cluster_mean\n",
    "    return cluster_means\n",
    "\n",
    "features_of_interest = ['Position', 'Score', 'Ratings', 'Longitude', 'Latitude']\n",
    "\n",
    "best_num_clusters = num_clusters_range[silhouette_scores.index(max(silhouette_scores))]\n",
    "best_cluster_labels = GaussianMixture(n_components=best_num_clusters, random_state=10).fit_predict(features_standardized)\n",
    "\n",
    "cluster_means = extract_cluster_means(best_cluster_labels, new_restaurant, features_of_interest)\n",
    "\n",
    "print(f\"Number of Clusters: {len(cluster_means)}\")\n",
    "\n",
    "for label, means in cluster_means.items():\n",
    "    print(f\"Cluster {label} Mean:\")\n",
    "    print(means)\n",
    "    print()"
   ]
  },
  {
   "cell_type": "code",
   "execution_count": null,
   "metadata": {},
   "outputs": [],
   "source": [
    "from scipy.spatial.distance import euclidean\n",
    "\n",
    "def find_most_matching_restaurant(cluster_means, restaurants_data, features_of_interest):\n",
    "    most_matching_restaurants = {}\n",
    "    for idx, cluster_mean in enumerate(cluster_means.values()):\n",
    "        min_distance = float('inf')\n",
    "        most_matching_restaurant = None\n",
    "        for _, row in restaurants_data.iterrows():\n",
    "            restaurant_mean = row[features_of_interest]\n",
    "            distance = euclidean(cluster_mean, restaurant_mean)\n",
    "            if distance < min_distance:\n",
    "                min_distance = distance\n",
    "                most_matching_restaurant = row['Name']\n",
    "        most_matching_restaurants[idx] = most_matching_restaurant\n",
    "    return most_matching_restaurants\n",
    "\n",
    "cluster_means = extract_cluster_means(best_cluster_labels, new_restaurant, features_of_interest)\n",
    "\n",
    "most_matching_restaurants = find_most_matching_restaurant(cluster_means, new_restaurant, features_of_interest)\n",
    "\n",
    "for cluster_label, restaurant_name in most_matching_restaurants.items():\n",
    "    print(f\"Cluster {cluster_label + 1} Most Matching Restaurant: {restaurant_name}\")"
   ]
  },
  {
   "cell_type": "code",
   "execution_count": null,
   "metadata": {
    "executionInfo": {
     "elapsed": 1113,
     "status": "ok",
     "timestamp": 1714925645982,
     "user": {
      "displayName": "CHERN HONG KOH",
      "userId": "10658439026159517048"
     },
     "user_tz": -480
    },
    "id": "mKAmSTXlMBl1"
   },
   "outputs": [],
   "source": [
    "best_num_clusters = num_clusters_range[np.argmax(silhouette_scores)]\n",
    "\n",
    "gmm = GaussianMixture(n_components=best_num_clusters, random_state=42)\n",
    "gmm.fit(features_standardized)\n",
    "cluster_labels = gmm.predict(features_standardized)\n",
    "\n",
    "pca = PCA(n_components=2)\n",
    "features_pca = pca.fit_transform(features_standardized)\n",
    "\n",
    "data = pd.DataFrame({\n",
    "    'PC1': features_pca[:, 0],\n",
    "    'PC2': features_pca[:, 1],\n",
    "    'Cluster Label': cluster_labels\n",
    "})\n",
    "\n",
    "data.to_csv('GMM_Clustering.csv', index=False)"
   ]
  },
  {
   "cell_type": "code",
   "execution_count": null,
   "metadata": {
    "colab": {
     "base_uri": "https://localhost:8080/",
     "height": 564
    },
    "executionInfo": {
     "elapsed": 3099,
     "status": "ok",
     "timestamp": 1714925649079,
     "user": {
      "displayName": "CHERN HONG KOH",
      "userId": "10658439026159517048"
     },
     "user_tz": -480
    },
    "id": "LvdmfHtyQBGC",
    "outputId": "4b6880e5-d0a1-4958-c90e-55de979b0959"
   },
   "outputs": [],
   "source": [
    "plt.figure(figsize=(8, 6))\n",
    "plt.scatter(features_pca[:, 0], features_pca[:, 1], c=cluster_labels, cmap='viridis', alpha=0.8, edgecolors='k')\n",
    "plt.colorbar(label='Cluster')\n",
    "plt.xlabel('Principal Component 1')\n",
    "plt.ylabel('Principal Component 2')\n",
    "plt.title(f'PCA of Clusters (Best Number of Clusters: {best_num_clusters})')\n",
    "plt.grid(True)\n",
    "plt.show()"
   ]
  },
  {
   "cell_type": "markdown",
   "metadata": {
    "id": "wYMdCBQVuDfK"
   },
   "source": [
    "## 5.5 Hierarchical Clustering"
   ]
  },
  {
   "cell_type": "markdown",
   "metadata": {
    "id": "bhfcF5OIdcC1"
   },
   "source": [
    "#### Hierarchical clustering is a technique that groups data objects into a tree-like structure. It involves combining or dividing existing groups and specifying the order in which clusters are divided or combined. Clusters of considerable size are split into smaller clusters, and clusters that are small in size but of significant importance are merged."
   ]
  },
  {
   "cell_type": "code",
   "execution_count": null,
   "metadata": {
    "executionInfo": {
     "elapsed": 3,
     "status": "ok",
     "timestamp": 1714925649079,
     "user": {
      "displayName": "CHERN HONG KOH",
      "userId": "10658439026159517048"
     },
     "user_tz": -480
    },
    "id": "i6gDscAUuDfK"
   },
   "outputs": [],
   "source": [
    "from sklearn.decomposition import PCA\n",
    "from sklearn.preprocessing import StandardScaler\n",
    "from sklearn.metrics import silhouette_score\n",
    "\n",
    "features_clustering = new_restaurant[['Position', 'Score', 'Ratings', 'Latitude', 'Longitude']]\n",
    "position_clustering = new_restaurant[['Position', 'Score']]\n",
    "quality_clustering = new_restaurant[['Score', 'Ratings']]\n",
    "\n",
    "scaler = StandardScaler()\n",
    "features_standardized = scaler.fit_transform(features_clustering)\n",
    "position_standardized = scaler.fit_transform(position_clustering)\n",
    "quality_standardized = scaler.fit_transform(quality_clustering)"
   ]
  },
  {
   "cell_type": "code",
   "execution_count": null,
   "metadata": {
    "executionInfo": {
     "elapsed": 26911,
     "status": "ok",
     "timestamp": 1714925675988,
     "user": {
      "displayName": "CHERN HONG KOH",
      "userId": "10658439026159517048"
     },
     "user_tz": -480
    },
    "id": "f3e5YKUFuDfK"
   },
   "outputs": [],
   "source": [
    "from sklearn.cluster import AgglomerativeClustering\n",
    "from scipy.cluster.hierarchy import dendrogram, linkage\n",
    "\n",
    "sorted_new_restaurant = new_restaurant.sort_values(by='Score', ascending=False)\n",
    "\n",
    "top_records = sorted_new_restaurant.head(20000)\n",
    "\n",
    "columns_for_clustering = ['Position', 'Score', 'Ratings', 'Latitude', 'Longitude']\n",
    "data_to_cluster = top_records[columns_for_clustering]\n",
    "\n",
    "scaler = StandardScaler()\n",
    "data_standardized = scaler.fit_transform(data_to_cluster)\n",
    "\n",
    "linkage_matrix = linkage(data_standardized, method='ward')\n",
    "\n",
    "linkage_df = pd.DataFrame(linkage_matrix, columns=['idx1', 'idx2', 'distance', 'sample_count'])\n",
    "linkage_df.to_csv('Linkage_Matrix.csv', index=False)"
   ]
  },
  {
   "cell_type": "code",
   "execution_count": null,
   "metadata": {
    "colab": {
     "base_uri": "https://localhost:8080/",
     "height": 730
    },
    "executionInfo": {
     "elapsed": 1398,
     "status": "ok",
     "timestamp": 1714925677384,
     "user": {
      "displayName": "CHERN HONG KOH",
      "userId": "10658439026159517048"
     },
     "user_tz": -480
    },
    "id": "RTgQOAcruDfK",
    "outputId": "0bdd0b0c-e47a-4d60-dd48-50b78a66860b"
   },
   "outputs": [],
   "source": [
    "plt.figure(figsize=(12, 8))\n",
    "\n",
    "dendrogram(\n",
    "    linkage_matrix,\n",
    "    leaf_rotation=45,\n",
    "    leaf_font_size=6,\n",
    "    truncate_mode='level',\n",
    "    p=4\n",
    ")\n",
    "\n",
    "plt.title('Hierarchical Clustering Dendrogram (Truncated)')\n",
    "plt.xlabel('Sample Index (or Cluster Size)')\n",
    "plt.ylabel('Distance')\n",
    "plt.show()"
   ]
  },
  {
   "cell_type": "code",
   "execution_count": null,
   "metadata": {
    "colab": {
     "base_uri": "https://localhost:8080/"
    },
    "executionInfo": {
     "elapsed": 226009,
     "status": "ok",
     "timestamp": 1714925903392,
     "user": {
      "displayName": "CHERN HONG KOH",
      "userId": "10658439026159517048"
     },
     "user_tz": -480
    },
    "id": "hLofhliiuDfL",
    "outputId": "16c64aca-617e-46e0-c6e3-2bc650d4aae6"
   },
   "outputs": [],
   "source": [
    "cluster_range = range(2, 11)\n",
    "\n",
    "silhouette_scores = []\n",
    "\n",
    "for n_clusters in cluster_range:\n",
    "    agg_clustering = AgglomerativeClustering(n_clusters=n_clusters, linkage='ward')\n",
    "    cluster_labels = agg_clustering.fit_predict(data_standardized)\n",
    "\n",
    "    silhouette_avg = silhouette_score(data_standardized, cluster_labels)\n",
    "    silhouette_scores.append(silhouette_avg)\n",
    "\n",
    "    print(f'Number of clusters: {n_clusters}, Silhouette Score: {silhouette_avg:.3f}')\n",
    "\n",
    "best_n_clusters = cluster_range[np.argmax(silhouette_scores)]\n",
    "print(f'Best Number of Clusters: {best_n_clusters}')\n",
    "\n",
    "data = {\n",
    "    'Number of Clusters': list(cluster_range),\n",
    "    'Silhouette Score': silhouette_scores\n",
    "}\n",
    "df = pd.DataFrame(data)\n",
    "\n",
    "df.to_csv('Hiearchical_Score.csv', index=False)"
   ]
  },
  {
   "cell_type": "code",
   "execution_count": null,
   "metadata": {
    "colab": {
     "base_uri": "https://localhost:8080/",
     "height": 564
    },
    "executionInfo": {
     "elapsed": 5,
     "status": "ok",
     "timestamp": 1714925903392,
     "user": {
      "displayName": "CHERN HONG KOH",
      "userId": "10658439026159517048"
     },
     "user_tz": -480
    },
    "id": "HewLGWgyuDfL",
    "outputId": "e5cdd196-20ce-4a8d-86ed-3a340102aea1"
   },
   "outputs": [],
   "source": [
    "plt.figure(figsize=(8, 6))\n",
    "plt.plot(cluster_range, silhouette_scores, marker='o')\n",
    "plt.xlabel('Number of Clusters')\n",
    "plt.ylabel('Silhouette Score')\n",
    "plt.title('Silhouette Score vs. Number of Clusters')\n",
    "plt.show()"
   ]
  },
  {
   "cell_type": "code",
   "execution_count": null,
   "metadata": {},
   "outputs": [],
   "source": [
    "def extract_cluster_means(cluster_labels, original_data, features):\n",
    "    cluster_means = {}\n",
    "    for label in np.unique(cluster_labels):\n",
    "        indices = np.where(cluster_labels == label)[0]\n",
    "        cluster_data = original_data.iloc[indices]\n",
    "        cluster_mean = cluster_data[features].mean(axis=0)\n",
    "        cluster_means[label] = cluster_mean\n",
    "    return cluster_means\n",
    "\n",
    "features_of_interest = ['Position', 'Score', 'Ratings', 'Longitude', 'Latitude']\n",
    "\n",
    "best_cluster_labels = AgglomerativeClustering(n_clusters=best_n_clusters, linkage='ward').fit_predict(data_standardized)\n",
    "\n",
    "cluster_means = extract_cluster_means(best_cluster_labels, new_restaurant, features_of_interest)\n",
    "\n",
    "print(f\"Number of Clusters: {len(cluster_means)}\")\n",
    "\n",
    "for label, means in cluster_means.items():\n",
    "    print(f\"Cluster {label} Mean:\")\n",
    "    print(means)\n",
    "    print()"
   ]
  },
  {
   "cell_type": "code",
   "execution_count": null,
   "metadata": {},
   "outputs": [],
   "source": [
    "def find_most_matching_restaurant(cluster_means, restaurants_data, features_of_interest):\n",
    "    most_matching_restaurants = {}\n",
    "    for idx, cluster_mean in enumerate(cluster_means.values()):\n",
    "        min_distance = float('inf')\n",
    "        most_matching_restaurant = None\n",
    "        for _, row in restaurants_data.iterrows():\n",
    "            restaurant_mean = row[features_of_interest]\n",
    "            distance = euclidean(cluster_mean, restaurant_mean)\n",
    "            if distance < min_distance:\n",
    "                min_distance = distance\n",
    "                most_matching_restaurant = row['Name']\n",
    "        most_matching_restaurants[idx] = most_matching_restaurant\n",
    "    return most_matching_restaurants\n",
    "\n",
    "most_matching_restaurants = find_most_matching_restaurant(cluster_means, new_restaurant, features_of_interest)\n",
    "\n",
    "for cluster_label, restaurant_name in most_matching_restaurants.items():\n",
    "    print(f\"Cluster {cluster_label + 1} Most Matching Restaurant: {restaurant_name}\")"
   ]
  },
  {
   "cell_type": "code",
   "execution_count": null,
   "metadata": {
    "executionInfo": {
     "elapsed": 18857,
     "status": "ok",
     "timestamp": 1714925922246,
     "user": {
      "displayName": "CHERN HONG KOH",
      "userId": "10658439026159517048"
     },
     "user_tz": -480
    },
    "id": "aT5StkgTuDfL"
   },
   "outputs": [],
   "source": [
    "agg_clustering = AgglomerativeClustering(n_clusters=best_n_clusters, linkage='ward')\n",
    "cluster_labels = agg_clustering.fit_predict(data_standardized)\n",
    "\n",
    "pca = PCA(n_components=2)\n",
    "data_reduced = pca.fit_transform(data_standardized)\n",
    "\n",
    "df = pd.DataFrame({\n",
    "    'PC1': data_reduced[:, 0],\n",
    "    'PC2': data_reduced[:, 1],\n",
    "    'Cluster': cluster_labels\n",
    "})\n",
    "\n",
    "df.to_csv('Hiearchical_Clustering.csv', index=False)"
   ]
  },
  {
   "cell_type": "code",
   "execution_count": null,
   "metadata": {
    "colab": {
     "base_uri": "https://localhost:8080/",
     "height": 564
    },
    "executionInfo": {
     "elapsed": 928,
     "status": "ok",
     "timestamp": 1714925923161,
     "user": {
      "displayName": "CHERN HONG KOH",
      "userId": "10658439026159517048"
     },
     "user_tz": -480
    },
    "id": "tvdG1sm4uDfL",
    "outputId": "0ead0113-ef74-408c-b3ba-2dda537b36ec"
   },
   "outputs": [],
   "source": [
    "plt.figure(figsize=(8, 6))\n",
    "\n",
    "for cluster_id in np.unique(cluster_labels):\n",
    "    cluster_points = data_reduced[cluster_labels == cluster_id]\n",
    "    plt.scatter(cluster_points[:, 0], cluster_points[:, 1], label=f'Cluster {cluster_id}', edgecolors='k')\n",
    "\n",
    "plt.xlabel('Principal Component 1')\n",
    "plt.ylabel('Principal Component 2')\n",
    "plt.title(f'Agglomerative Clustering (Best number of clusters: {best_n_clusters})')\n",
    "plt.legend()\n",
    "plt.show()"
   ]
  },
  {
   "cell_type": "code",
   "execution_count": null,
   "metadata": {
    "executionInfo": {
     "elapsed": 4,
     "status": "ok",
     "timestamp": 1714925923161,
     "user": {
      "displayName": "CHERN HONG KOH",
      "userId": "10658439026159517048"
     },
     "user_tz": -480
    },
    "id": "jy1op0rPID4q"
   },
   "outputs": [],
   "source": []
  }
 ],
 "metadata": {
  "colab": {
   "collapsed_sections": [
    "GZkTU6FpuDfD",
    "aUvtYmj6uDfD",
    "GkWgQBIFuDfF",
    "pqrq9rxUdIwC",
    "peMlc0U9uDfH"
   ],
   "provenance": []
  },
  "kernelspec": {
   "display_name": "Python 3 (ipykernel)",
   "language": "python",
   "name": "python3"
  },
  "language_info": {
   "codemirror_mode": {
    "name": "ipython",
    "version": 3
   },
   "file_extension": ".py",
   "mimetype": "text/x-python",
   "name": "python",
   "nbconvert_exporter": "python",
   "pygments_lexer": "ipython3",
   "version": "3.9.18"
  }
 },
 "nbformat": 4,
 "nbformat_minor": 4
}
